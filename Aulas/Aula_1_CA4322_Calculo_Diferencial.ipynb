{
 "cells": [
  {
   "cell_type": "markdown",
   "metadata": {
    "id": "BP_o83fEuakR"
   },
   "source": [
    "## **Cálculo diferencial e Integral com Pyhton**"
   ]
  },
  {
   "cell_type": "markdown",
   "metadata": {
    "id": "zglkcyhYvEoN"
   },
   "source": [
    "## **Gráficos - Matplotlib**"
   ]
  },
  {
   "cell_type": "markdown",
   "metadata": {
    "id": "4d5jls5ev2Dw"
   },
   "source": [
    "O matplotlib é um pacote do python destinado a geração de gráficos. O matplotlib possui vários submódulos, sendo o pyplot um dos mais utilizados para construção de gráficos. A forma mais comum de importar o pyplot é:\n",
    "import matplotlib.pyplot as plt.\n",
    "\n",
    "O matplotlib utiliza o numpy como base, garantindo um bom desempenho computacional. Assim, os parâmetros empregados nos métodos do matplotlib são arrays do numpy. Se outros tipos, como listas e tuplas, forem enviadas como parâmetro, o matplotlib as converte internamente para arrays.\n",
    "\n",
    "Um tutorial sobre os métodos do pyplot pode ser encontrado em https://matplotlib.org/users/pyplot_tutorial.html  \n",
    "\n"
   ]
  },
  {
   "cell_type": "markdown",
   "metadata": {
    "id": "Atm39GzZ1yIw"
   },
   "source": [
    "# **Um gráfico de linha simples plt.plot(x,y)**\n",
    "\n",
    "O método plot gera gráficos a partir de dois arrays de valores, um correspondendo às coordenadas no eixo horizontal e outro às coordenadas no eixo vertical.\n",
    "\n",
    "* supõe que os arrays enviados como parâmetros correspondem a valores discretos para os eixos horizontal e vertical\n",
    "* se apenas um array é fornecido, o método automaticamente supõe valores inteiros igualmente espaçados no eixo horizontal\n",
    "* como todos os métodos do pyplot, o método plot admite um número grande de parâmetros que permitem personalizar o gráfico\n"
   ]
  },
  {
   "cell_type": "code",
   "execution_count": 1,
   "metadata": {
    "ExecuteTime": {
     "end_time": "2024-08-14T23:24:28.634569Z",
     "start_time": "2024-08-14T23:24:27.999750Z"
    },
    "colab": {
     "base_uri": "https://localhost:8080/",
     "height": 282
    },
    "id": "W6qSMelV24aN",
    "outputId": "6db31bff-a2fc-4d66-b2f5-035073074028"
   },
   "outputs": [
    {
     "ename": "ImportError",
     "evalue": "DLL load failed while importing _multiarray_umath: Não foi possível encontrar o módulo especificado.",
     "output_type": "error",
     "traceback": [
      "\u001b[1;31m---------------------------------------------------------------------------\u001b[0m",
      "\u001b[1;31mImportError\u001b[0m                               Traceback (most recent call last)",
      "\u001b[1;31mImportError\u001b[0m: DLL load failed while importing _multiarray_umath: Não foi possível encontrar o módulo especificado."
     ]
    },
    {
     "ename": "ImportError",
     "evalue": "initialization failed",
     "output_type": "error",
     "traceback": [
      "\u001b[1;31m---------------------------------------------------------------------------\u001b[0m",
      "\u001b[1;31mImportError\u001b[0m                               Traceback (most recent call last)",
      "\u001b[1;31mImportError\u001b[0m: numpy._core.multiarray failed to import",
      "\nThe above exception was the direct cause of the following exception:\n",
      "\u001b[1;31mImportError\u001b[0m                               Traceback (most recent call last)",
      "Cell \u001b[1;32mIn[1], line 2\u001b[0m\n\u001b[0;32m      1\u001b[0m \u001b[38;5;28;01mimport\u001b[39;00m \u001b[38;5;21;01mnumpy\u001b[39;00m \u001b[38;5;28;01mas\u001b[39;00m \u001b[38;5;21;01mnp\u001b[39;00m\n\u001b[1;32m----> 2\u001b[0m \u001b[38;5;28;01mimport\u001b[39;00m \u001b[38;5;21;01mmatplotlib\u001b[39;00m\u001b[38;5;21;01m.\u001b[39;00m\u001b[38;5;21;01mpyplot\u001b[39;00m \u001b[38;5;28;01mas\u001b[39;00m \u001b[38;5;21;01mplt\u001b[39;00m\n\u001b[0;32m      4\u001b[0m get_ipython()\u001b[38;5;241m.\u001b[39mrun_line_magic(\u001b[38;5;124m'\u001b[39m\u001b[38;5;124mmatplotlib\u001b[39m\u001b[38;5;124m'\u001b[39m, \u001b[38;5;124m'\u001b[39m\u001b[38;5;124minline\u001b[39m\u001b[38;5;124m'\u001b[39m)\n\u001b[0;32m      5\u001b[0m \u001b[38;5;66;03m# o comando \"%matplotlib inline\" faz com que os gráficos fiquem \"embutidos\" no notebook, sem ele uma nova\u001b[39;00m\n\u001b[0;32m      6\u001b[0m \u001b[38;5;66;03m# janela é criada para cada gráfico.\u001b[39;00m\n",
      "File \u001b[1;32m~\\miniconda3\\Lib\\site-packages\\matplotlib\\__init__.py:159\u001b[0m\n\u001b[0;32m    155\u001b[0m \u001b[38;5;28;01mfrom\u001b[39;00m \u001b[38;5;21;01mpackaging\u001b[39;00m\u001b[38;5;21;01m.\u001b[39;00m\u001b[38;5;21;01mversion\u001b[39;00m \u001b[38;5;28;01mimport\u001b[39;00m parse \u001b[38;5;28;01mas\u001b[39;00m parse_version\n\u001b[0;32m    157\u001b[0m \u001b[38;5;66;03m# cbook must import matplotlib only within function\u001b[39;00m\n\u001b[0;32m    158\u001b[0m \u001b[38;5;66;03m# definitions, so it is safe to import from it here.\u001b[39;00m\n\u001b[1;32m--> 159\u001b[0m \u001b[38;5;28;01mfrom\u001b[39;00m \u001b[38;5;21;01m.\u001b[39;00m \u001b[38;5;28;01mimport\u001b[39;00m _api, _version, cbook, _docstring, rcsetup\n\u001b[0;32m    160\u001b[0m \u001b[38;5;28;01mfrom\u001b[39;00m \u001b[38;5;21;01mmatplotlib\u001b[39;00m\u001b[38;5;21;01m.\u001b[39;00m\u001b[38;5;21;01mcbook\u001b[39;00m \u001b[38;5;28;01mimport\u001b[39;00m sanitize_sequence\n\u001b[0;32m    161\u001b[0m \u001b[38;5;28;01mfrom\u001b[39;00m \u001b[38;5;21;01mmatplotlib\u001b[39;00m\u001b[38;5;21;01m.\u001b[39;00m\u001b[38;5;21;01m_api\u001b[39;00m \u001b[38;5;28;01mimport\u001b[39;00m MatplotlibDeprecationWarning\n",
      "File \u001b[1;32m~\\miniconda3\\Lib\\site-packages\\matplotlib\\rcsetup.py:28\u001b[0m\n\u001b[0;32m     26\u001b[0m \u001b[38;5;28;01mfrom\u001b[39;00m \u001b[38;5;21;01mmatplotlib\u001b[39;00m\u001b[38;5;21;01m.\u001b[39;00m\u001b[38;5;21;01mbackends\u001b[39;00m \u001b[38;5;28;01mimport\u001b[39;00m BackendFilter, backend_registry\n\u001b[0;32m     27\u001b[0m \u001b[38;5;28;01mfrom\u001b[39;00m \u001b[38;5;21;01mmatplotlib\u001b[39;00m\u001b[38;5;21;01m.\u001b[39;00m\u001b[38;5;21;01mcbook\u001b[39;00m \u001b[38;5;28;01mimport\u001b[39;00m ls_mapper\n\u001b[1;32m---> 28\u001b[0m \u001b[38;5;28;01mfrom\u001b[39;00m \u001b[38;5;21;01mmatplotlib\u001b[39;00m\u001b[38;5;21;01m.\u001b[39;00m\u001b[38;5;21;01mcolors\u001b[39;00m \u001b[38;5;28;01mimport\u001b[39;00m Colormap, is_color_like\n\u001b[0;32m     29\u001b[0m \u001b[38;5;28;01mfrom\u001b[39;00m \u001b[38;5;21;01mmatplotlib\u001b[39;00m\u001b[38;5;21;01m.\u001b[39;00m\u001b[38;5;21;01m_fontconfig_pattern\u001b[39;00m \u001b[38;5;28;01mimport\u001b[39;00m parse_fontconfig_pattern\n\u001b[0;32m     30\u001b[0m \u001b[38;5;28;01mfrom\u001b[39;00m \u001b[38;5;21;01mmatplotlib\u001b[39;00m\u001b[38;5;21;01m.\u001b[39;00m\u001b[38;5;21;01m_enums\u001b[39;00m \u001b[38;5;28;01mimport\u001b[39;00m JoinStyle, CapStyle\n",
      "File \u001b[1;32m~\\miniconda3\\Lib\\site-packages\\matplotlib\\colors.py:57\u001b[0m\n\u001b[0;32m     55\u001b[0m \u001b[38;5;28;01mimport\u001b[39;00m \u001b[38;5;21;01mmatplotlib\u001b[39;00m \u001b[38;5;28;01mas\u001b[39;00m \u001b[38;5;21;01mmpl\u001b[39;00m\n\u001b[0;32m     56\u001b[0m \u001b[38;5;28;01mimport\u001b[39;00m \u001b[38;5;21;01mnumpy\u001b[39;00m \u001b[38;5;28;01mas\u001b[39;00m \u001b[38;5;21;01mnp\u001b[39;00m\n\u001b[1;32m---> 57\u001b[0m \u001b[38;5;28;01mfrom\u001b[39;00m \u001b[38;5;21;01mmatplotlib\u001b[39;00m \u001b[38;5;28;01mimport\u001b[39;00m _api, _cm, cbook, scale\n\u001b[0;32m     58\u001b[0m \u001b[38;5;28;01mfrom\u001b[39;00m \u001b[38;5;21;01m.\u001b[39;00m\u001b[38;5;21;01m_color_data\u001b[39;00m \u001b[38;5;28;01mimport\u001b[39;00m BASE_COLORS, TABLEAU_COLORS, CSS4_COLORS, XKCD_COLORS\n\u001b[0;32m     61\u001b[0m \u001b[38;5;28;01mclass\u001b[39;00m \u001b[38;5;21;01m_ColorMapping\u001b[39;00m(\u001b[38;5;28mdict\u001b[39m):\n",
      "File \u001b[1;32m~\\miniconda3\\Lib\\site-packages\\matplotlib\\scale.py:22\u001b[0m\n\u001b[0;32m     20\u001b[0m \u001b[38;5;28;01mimport\u001b[39;00m \u001b[38;5;21;01mmatplotlib\u001b[39;00m \u001b[38;5;28;01mas\u001b[39;00m \u001b[38;5;21;01mmpl\u001b[39;00m\n\u001b[0;32m     21\u001b[0m \u001b[38;5;28;01mfrom\u001b[39;00m \u001b[38;5;21;01mmatplotlib\u001b[39;00m \u001b[38;5;28;01mimport\u001b[39;00m _api, _docstring\n\u001b[1;32m---> 22\u001b[0m \u001b[38;5;28;01mfrom\u001b[39;00m \u001b[38;5;21;01mmatplotlib\u001b[39;00m\u001b[38;5;21;01m.\u001b[39;00m\u001b[38;5;21;01mticker\u001b[39;00m \u001b[38;5;28;01mimport\u001b[39;00m (\n\u001b[0;32m     23\u001b[0m     NullFormatter, ScalarFormatter, LogFormatterSciNotation, LogitFormatter,\n\u001b[0;32m     24\u001b[0m     NullLocator, LogLocator, AutoLocator, AutoMinorLocator,\n\u001b[0;32m     25\u001b[0m     SymmetricalLogLocator, AsinhLocator, LogitLocator)\n\u001b[0;32m     26\u001b[0m \u001b[38;5;28;01mfrom\u001b[39;00m \u001b[38;5;21;01mmatplotlib\u001b[39;00m\u001b[38;5;21;01m.\u001b[39;00m\u001b[38;5;21;01mtransforms\u001b[39;00m \u001b[38;5;28;01mimport\u001b[39;00m Transform, IdentityTransform\n\u001b[0;32m     29\u001b[0m \u001b[38;5;28;01mclass\u001b[39;00m \u001b[38;5;21;01mScaleBase\u001b[39;00m:\n",
      "File \u001b[1;32m~\\miniconda3\\Lib\\site-packages\\matplotlib\\ticker.py:144\u001b[0m\n\u001b[0;32m    142\u001b[0m \u001b[38;5;28;01mimport\u001b[39;00m \u001b[38;5;21;01mmatplotlib\u001b[39;00m \u001b[38;5;28;01mas\u001b[39;00m \u001b[38;5;21;01mmpl\u001b[39;00m\n\u001b[0;32m    143\u001b[0m \u001b[38;5;28;01mfrom\u001b[39;00m \u001b[38;5;21;01mmatplotlib\u001b[39;00m \u001b[38;5;28;01mimport\u001b[39;00m _api, cbook\n\u001b[1;32m--> 144\u001b[0m \u001b[38;5;28;01mfrom\u001b[39;00m \u001b[38;5;21;01mmatplotlib\u001b[39;00m \u001b[38;5;28;01mimport\u001b[39;00m transforms \u001b[38;5;28;01mas\u001b[39;00m mtransforms\n\u001b[0;32m    146\u001b[0m _log \u001b[38;5;241m=\u001b[39m logging\u001b[38;5;241m.\u001b[39mgetLogger(\u001b[38;5;18m__name__\u001b[39m)\n\u001b[0;32m    148\u001b[0m __all__ \u001b[38;5;241m=\u001b[39m (\u001b[38;5;124m'\u001b[39m\u001b[38;5;124mTickHelper\u001b[39m\u001b[38;5;124m'\u001b[39m, \u001b[38;5;124m'\u001b[39m\u001b[38;5;124mFormatter\u001b[39m\u001b[38;5;124m'\u001b[39m, \u001b[38;5;124m'\u001b[39m\u001b[38;5;124mFixedFormatter\u001b[39m\u001b[38;5;124m'\u001b[39m,\n\u001b[0;32m    149\u001b[0m            \u001b[38;5;124m'\u001b[39m\u001b[38;5;124mNullFormatter\u001b[39m\u001b[38;5;124m'\u001b[39m, \u001b[38;5;124m'\u001b[39m\u001b[38;5;124mFuncFormatter\u001b[39m\u001b[38;5;124m'\u001b[39m, \u001b[38;5;124m'\u001b[39m\u001b[38;5;124mFormatStrFormatter\u001b[39m\u001b[38;5;124m'\u001b[39m,\n\u001b[0;32m    150\u001b[0m            \u001b[38;5;124m'\u001b[39m\u001b[38;5;124mStrMethodFormatter\u001b[39m\u001b[38;5;124m'\u001b[39m, \u001b[38;5;124m'\u001b[39m\u001b[38;5;124mScalarFormatter\u001b[39m\u001b[38;5;124m'\u001b[39m, \u001b[38;5;124m'\u001b[39m\u001b[38;5;124mLogFormatter\u001b[39m\u001b[38;5;124m'\u001b[39m,\n\u001b[1;32m   (...)\u001b[0m\n\u001b[0;32m    156\u001b[0m            \u001b[38;5;124m'\u001b[39m\u001b[38;5;124mMultipleLocator\u001b[39m\u001b[38;5;124m'\u001b[39m, \u001b[38;5;124m'\u001b[39m\u001b[38;5;124mMaxNLocator\u001b[39m\u001b[38;5;124m'\u001b[39m, \u001b[38;5;124m'\u001b[39m\u001b[38;5;124mAutoMinorLocator\u001b[39m\u001b[38;5;124m'\u001b[39m,\n\u001b[0;32m    157\u001b[0m            \u001b[38;5;124m'\u001b[39m\u001b[38;5;124mSymmetricalLogLocator\u001b[39m\u001b[38;5;124m'\u001b[39m, \u001b[38;5;124m'\u001b[39m\u001b[38;5;124mAsinhLocator\u001b[39m\u001b[38;5;124m'\u001b[39m, \u001b[38;5;124m'\u001b[39m\u001b[38;5;124mLogitLocator\u001b[39m\u001b[38;5;124m'\u001b[39m)\n",
      "File \u001b[1;32m~\\miniconda3\\Lib\\site-packages\\matplotlib\\transforms.py:49\u001b[0m\n\u001b[0;32m     46\u001b[0m \u001b[38;5;28;01mfrom\u001b[39;00m \u001b[38;5;21;01mnumpy\u001b[39;00m\u001b[38;5;21;01m.\u001b[39;00m\u001b[38;5;21;01mlinalg\u001b[39;00m \u001b[38;5;28;01mimport\u001b[39;00m inv\n\u001b[0;32m     48\u001b[0m \u001b[38;5;28;01mfrom\u001b[39;00m \u001b[38;5;21;01mmatplotlib\u001b[39;00m \u001b[38;5;28;01mimport\u001b[39;00m _api\n\u001b[1;32m---> 49\u001b[0m \u001b[38;5;28;01mfrom\u001b[39;00m \u001b[38;5;21;01mmatplotlib\u001b[39;00m\u001b[38;5;21;01m.\u001b[39;00m\u001b[38;5;21;01m_path\u001b[39;00m \u001b[38;5;28;01mimport\u001b[39;00m (\n\u001b[0;32m     50\u001b[0m     affine_transform, count_bboxes_overlapping_bbox, update_path_extents)\n\u001b[0;32m     51\u001b[0m \u001b[38;5;28;01mfrom\u001b[39;00m \u001b[38;5;21;01m.\u001b[39;00m\u001b[38;5;21;01mpath\u001b[39;00m \u001b[38;5;28;01mimport\u001b[39;00m Path\n\u001b[0;32m     53\u001b[0m DEBUG \u001b[38;5;241m=\u001b[39m \u001b[38;5;28;01mFalse\u001b[39;00m\n",
      "\u001b[1;31mImportError\u001b[0m: initialization failed"
     ]
    }
   ],
   "source": [
    "import numpy as np\n",
    "import matplotlib.pyplot as plt\n",
    "\n",
    "%matplotlib inline  \n",
    "# o comando \"%matplotlib inline\" faz com que os gráficos fiquem \"embutidos\" no notebook, sem ele uma nova\n",
    "# janela é criada para cada gráfico.\n",
    "x = np.linspace(-1,1,20) # array com 20 pontos igualmente espaçados no intervalo 0 e 1\n",
    "y = x**2                # valores elevados ao quadrado\n",
    "plt.plot(x,y)           # gera o gráfico dos valores (x,x**2)\n"
   ]
  },
  {
   "cell_type": "code",
   "execution_count": null,
   "metadata": {
    "colab": {
     "base_uri": "https://localhost:8080/",
     "height": 265
    },
    "id": "jf4DkEBpGdr4",
    "outputId": "f11df812-5b84-4135-a6b8-a382da19dd58"
   },
   "outputs": [],
   "source": [
    "import numpy as np\n",
    "\n",
    "import matplotlib.pyplot as plt             \n",
    "%matplotlib inline\n",
    "\n",
    "x = np.arange(-10,10,0.01)\n",
    "\n",
    "plt.plot(x, np.sin(x))\n",
    "plt.show()"
   ]
  },
  {
   "cell_type": "code",
   "execution_count": null,
   "metadata": {
    "id": "Y9Jv3EMT6-zS"
   },
   "outputs": [],
   "source": []
  },
  {
   "cell_type": "code",
   "execution_count": null,
   "metadata": {
    "colab": {
     "base_uri": "https://localhost:8080/",
     "height": 295
    },
    "id": "V1vE6QxhVXFS",
    "outputId": "aa43333a-d440-431d-8122-12b31059708b"
   },
   "outputs": [],
   "source": [
    "import numpy as np\n",
    "\n",
    "import matplotlib.pyplot as plt             \n",
    "%matplotlib inline\n",
    "\n",
    "x = np.arange(-10,10,0.01)\n",
    "\n",
    "plt.plot(x, np.sin(x), label='sin(x)')\n",
    "plt.plot(x, np.cos(4*x), label='cos(4x)')\n",
    "\n",
    "plt.title('Exemplo Sin(x) & Cos(4x)')\n",
    "plt.xlabel('Eixo x')\n",
    "plt.ylabel('Eixo y')\n",
    "plt.legend()\n",
    "\n",
    "plt.show()"
   ]
  },
  {
   "cell_type": "markdown",
   "metadata": {
    "id": "PVCFYo458dns"
   },
   "source": [
    "# **Propriedades de linha linestyle, marker, color, linewidth e markersize**\n",
    "\n",
    "Você pode alterar várias das propriedades das linhas dos gráficos como estilo da linha, cor e sua espessura. Isso é importante para diferenciar várias linhas em um mesmo gráfico ou ainda se você quiser dar destaque a uma ou mais linhas.\n",
    "\n",
    "Essas propriedades podem ser codificadas explicitamente:"
   ]
  },
  {
   "cell_type": "code",
   "execution_count": null,
   "metadata": {
    "colab": {
     "base_uri": "https://localhost:8080/",
     "height": 282
    },
    "id": "9xthDz-x9ixO",
    "outputId": "8d7b0b37-d6b8-43ee-8419-78c0190e3791"
   },
   "outputs": [],
   "source": [
    "plt.plot(x, np.cos(x), linestyle='dashed', marker='o', color='green', linewidth=1, markersize=6)"
   ]
  },
  {
   "cell_type": "code",
   "execution_count": null,
   "metadata": {
    "colab": {
     "base_uri": "https://localhost:8080/",
     "height": 282
    },
    "id": "P9M-nZtM9ryK",
    "outputId": "17e8ae38-580d-4031-9435-ed00685ca0e2"
   },
   "outputs": [],
   "source": [
    "# pode-se incluir marcadores (marker) para identificar os pares de valores fornecidos\n",
    "x = np.linspace(-1,1,20)\n",
    "y = x**2                \n",
    "plt.plot(x,y,color='red', linestyle = '--',marker='o')\n"
   ]
  },
  {
   "cell_type": "code",
   "execution_count": null,
   "metadata": {
    "colab": {
     "base_uri": "https://localhost:8080/",
     "height": 265
    },
    "id": "t0C1loZhTaAn",
    "outputId": "a174d8bd-62e0-496d-9b14-e0d50d05651c"
   },
   "outputs": [],
   "source": [
    "# Pode-se incluir diversos gráficos\n",
    "import numpy as np\n",
    "import matplotlib.pyplot as plt \n",
    "\n",
    "x = np.linspace(-1,1,20)\n",
    "y = x**2                \n",
    "plt.plot(x,y,x,x**4,color='blue',linewidth = 2, linestyle = '--') # gera dois gráficos simultaneamente\n",
    "                                # um com os valores (x,y) e outro com (x,x**3)\n",
    "                                # armazenando o resultado em uma variável\n",
    "        \n",
    "plt.show()"
   ]
  },
  {
   "cell_type": "markdown",
   "metadata": {
    "id": "9EaSOnQuU5P-"
   },
   "source": [
    "# **Subplots**\n",
    "O método subplot possibilita organizar diversos gráficos em uma matriz de gráficos. Os parâmetros do método subplot são:\n",
    "* 'num_rows': número de linhas na matriz de gráficos\n",
    "*'num_cols': número de colunas na matriz de gráficos\n",
    "* 'subplot_number': índice do subplot na matriz linearizada\n"
   ]
  },
  {
   "cell_type": "code",
   "execution_count": null,
   "metadata": {
    "colab": {
     "base_uri": "https://localhost:8080/",
     "height": 282
    },
    "id": "jd7r70UyUC-6",
    "outputId": "72a9e41a-bac0-45ac-c488-939b9e651d64"
   },
   "outputs": [],
   "source": [
    "import numpy as np\n",
    "import matplotlib.pyplot as plt\n",
    "%matplotlib inline  \n",
    "def f(t):\n",
    "    return(np.exp(-t) * np.cos(2.0*np.pi*t))\n",
    "t2 = np.linspace(0.0, 5.0, 100)\n",
    "plt.subplot(2, 2, 1)  # gera uma matriz 2x2 onde os gráficos serão exibidos e \n",
    "                      # ativa o elemento 1 (elemento superior esquerdo da matriz)\n",
    "                      # para que o gráfico seja gerado nele\n",
    "plt.plot(t2, f(t2), color='black', marker = 'o')\n",
    "plt.subplot(2, 2, 2)  # ativa o elemento 2 (elemento superior direito da matriz)\n",
    "                      # para que o gráfico seja gerado nele\n",
    "plt.plot(t2, np.cos(2.0*np.pi*t2), color='red', linestyle = '--')\n",
    "plt.subplot(2, 2, 3)  # ativa o elemento 3 (elemento inferior esquerdo da matriz)\n",
    "                      # para que o gráfico seja gerado nele\n",
    "plt.plot(t2, t2)\n",
    "plt.subplot(2, 2, 4)  # ativa o elemento 4 (elemento inferior direito da matriz)\n",
    "                      # para que o gráfico seja gerado nele\n",
    "plt.plot(t2, t2**2,marker='s',markersize=1)\n"
   ]
  },
  {
   "cell_type": "markdown",
   "metadata": {
    "id": "gh0tgdOwZrnj"
   },
   "source": [
    "# **Outros Gráficos**"
   ]
  },
  {
   "cell_type": "code",
   "execution_count": null,
   "metadata": {
    "colab": {
     "base_uri": "https://localhost:8080/",
     "height": 927
    },
    "id": "EhVhrrfIZxqs",
    "outputId": "a316941d-3f71-4fc4-d372-1cc524ba3d65"
   },
   "outputs": [],
   "source": [
    "# apenas a produção dos dados\n",
    "x = np.random.random_sample(100)\n",
    "np.random.seed(1234)\n",
    "\n",
    "x = np.arange(0,100,1)\n",
    "y = np.random.rand(100)*10\n",
    "z = np.random.rand(100)*3\n",
    "t = np.random.rand(100)*5\n",
    "\n",
    "from matplotlib import cm # para cores no scatter plot\n",
    "\n",
    "plt.figure(figsize=(12,12))                         \n",
    "plt.suptitle('Outros Gráficos', fontsize=14, weight='bold', y=1.05)\n",
    "\n",
    "plt.subplot(3, 2, 1)  \n",
    "plt.plot(x,y)    \n",
    "plt.title('Plot', fontsize=14, weight='bold') \n",
    "\n",
    "plt.subplot(3, 2, 2)  \n",
    "plt.hist(y, bins=30, color='g', alpha=0.5)     \n",
    "plt.title('Histograma', fontsize=14, weight='bold')    \n",
    "             \n",
    "plt.subplot(3, 2, 3)  \n",
    "plt.scatter(x,y,c=x,cmap=cm.viridis)    \n",
    "plt.title('Scatter plot', fontsize=14, weight='bold') \n",
    "\n",
    "plt.subplot(3, 2, 4)  \n",
    "plt.boxplot([y,z,t],labels=['Cyan','Green','Yellow'])    \n",
    "plt.title('Box plot', fontsize=14, weight='bold')\n",
    "\n",
    "plt.subplot(3, 2, 5)  \n",
    "plt.bar(['Cyan','Green','Yellow'],[y.mean(),z.mean(),t.mean()],color=['c','g','y'],alpha=0.5)    \n",
    "plt.title('Bar plot', fontsize=14, weight='bold')\n",
    "\n",
    "plt.subplot(3, 2, 6)  \n",
    "plt.pie([y.mean(),z.mean(),t.mean()],\n",
    "        colors=['c','g','y'],\n",
    "        explode=[0, 0.1, 0],\n",
    "        labels=['Cyan','Green','Yellow'],\n",
    "        autopct='%1.2f%%')    \n",
    "plt.title('Pie plot', fontsize=14, weight='bold')\n",
    "\n",
    "plt.tight_layout()\n",
    "plt.show()"
   ]
  },
  {
   "cell_type": "markdown",
   "metadata": {
    "id": "BsqLDLvQacor"
   },
   "source": [
    "# **Funções Polinomiais**"
   ]
  },
  {
   "cell_type": "markdown",
   "metadata": {
    "id": "nLoRfTDBjSQk"
   },
   "source": [
    "**Calcular o valor da função f(x)=3x3-4x2+2x-5 para x=3.0**"
   ]
  },
  {
   "cell_type": "code",
   "execution_count": null,
   "metadata": {
    "colab": {
     "base_uri": "https://localhost:8080/"
    },
    "id": "ftBKYqFBjVws",
    "outputId": "41ba1aec-e013-4bc7-98f8-cb0384b97d7a"
   },
   "outputs": [],
   "source": [
    "def calcula_f(x):\n",
    "    return 3*x**3-4*x**2-2*x-5\n",
    "x=3.0\n",
    "y=calcula_f(x)\n",
    "print(\"resultado da função para x=%.1f é %.1f\" %(x,y))\n"
   ]
  },
  {
   "cell_type": "markdown",
   "metadata": {
    "id": "qZ4pmpGvjn0O"
   },
   "source": [
    "# **Raízes Funções de Polinomiais**"
   ]
  },
  {
   "cell_type": "markdown",
   "metadata": {
    "id": "ZHCabiKXkBpv"
   },
   "source": [
    "**Calcular as raízes da função f(x)=2x+1**"
   ]
  },
  {
   "cell_type": "code",
   "execution_count": null,
   "metadata": {
    "colab": {
     "base_uri": "https://localhost:8080/"
    },
    "id": "-xUOOe8yWI-s",
    "outputId": "4734eef5-e4d3-4159-f9a9-a16a2f5f4920"
   },
   "outputs": [],
   "source": [
    "from numpy import roots\n",
    "#define coeficientes da função do primeiro grau 2x-1\n",
    "coeficientes=[2 ,-1]\n",
    "raiz=roots(coeficientes)\n",
    "print(\"Raiz da equação 2x-1\")\n",
    "print(raiz)\n"
   ]
  },
  {
   "cell_type": "markdown",
   "metadata": {
    "id": "3RvJHRBDW4Vs"
   },
   "source": [
    "# **Limites**\n",
    "\n",
    "**sintaxe:**\n",
    "\n",
    "# **limit(função,variável,valor,lado)**"
   ]
  },
  {
   "cell_type": "markdown",
   "metadata": {
    "id": "5AZ8K1OrXcqc"
   },
   "source": [
    "**1) Calcular o limite**\n",
    "$\\displaystyle \\lim_{x\\to 0} \\frac{sen(x)}{x}$"
   ]
  },
  {
   "cell_type": "code",
   "execution_count": null,
   "metadata": {
    "colab": {
     "base_uri": "https://localhost:8080/",
     "height": 332
    },
    "id": "UbRkWhjYatXa",
    "outputId": "2f0d167d-8d76-415f-82d6-2a5dba230600"
   },
   "outputs": [],
   "source": [
    "from sympy import *\n",
    "#definir os símbolos usados\n",
    "x=symbols('x')\n",
    "#definir a função\n",
    "expr=sin(x)/x\n",
    "#calcular o limite\n",
    "r=limit(expr,x,0)\n",
    "print(r)\n",
    "#gráfico da função\n",
    "plot(expr)\n"
   ]
  },
  {
   "cell_type": "markdown",
   "metadata": {
    "id": "VFDLqVpgbIB_"
   },
   "source": [
    "**2) Calcular o limite**\n",
    "$\\displaystyle \\lim_{x\\to -3/2} \\frac{4x^2-9}{2x+3}$"
   ]
  },
  {
   "cell_type": "code",
   "execution_count": null,
   "metadata": {
    "colab": {
     "base_uri": "https://localhost:8080/"
    },
    "id": "mY8CO_DTbX6y",
    "outputId": "b572a677-38b6-4207-8bfe-9eb7d81cf0e0"
   },
   "outputs": [],
   "source": [
    "from sympy import *\n",
    "#definir os símbolos usados\n",
    "x=symbols('x')\n",
    "#definir a função\n",
    "expr=(4*x**2-9)/(2*x+3)\n",
    "#calcular o limite\n",
    "r=limit(expr,x,-3/2)\n",
    "print(\"%.1f\" %r)"
   ]
  },
  {
   "cell_type": "markdown",
   "metadata": {
    "id": "ItwQ129HdESI"
   },
   "source": [
    "**3) Calcular o limite**\n",
    "$\\displaystyle \\lim_{x\\to 0-} \\frac{1}{x}$"
   ]
  },
  {
   "cell_type": "code",
   "execution_count": null,
   "metadata": {
    "colab": {
     "base_uri": "https://localhost:8080/"
    },
    "id": "ohu3X7RadP_J",
    "outputId": "d7617cce-d021-43d7-aa09-c0fd8061d569"
   },
   "outputs": [],
   "source": [
    "from sympy import *\n",
    "#definir os símbolos usados\n",
    "x=symbols('x')\n",
    "#definir a função\n",
    "expr=1/x\n",
    "#calcular o limite\n",
    "r=limit(expr,x,0,'-')\n",
    "print(\"%.1f\" %r)"
   ]
  },
  {
   "cell_type": "markdown",
   "metadata": {
    "id": "VqXd3yNEd0-8"
   },
   "source": [
    "**4) Calcular o limite**\n",
    "$\\displaystyle \\lim_{x\\to \\infty} \\frac{2x^2-3x+5}{x^2+1}$"
   ]
  },
  {
   "cell_type": "code",
   "execution_count": null,
   "metadata": {
    "colab": {
     "base_uri": "https://localhost:8080/"
    },
    "id": "35J3bXJFeSNr",
    "outputId": "e7267933-e850-4f3e-dbbb-62a46578ea89"
   },
   "outputs": [],
   "source": [
    "from sympy import *\n",
    "#definir os símbolos usados\n",
    "x=symbols('x')\n",
    "#definir a função\n",
    "expr=(2*x**2-3*x+5)/(x**2+1)\n",
    "#calcular o limite\n",
    "r=limit(expr,x,'oo')\n",
    "print(\"%.1f\" %r)"
   ]
  },
  {
   "cell_type": "markdown",
   "metadata": {
    "id": "iqISCB23ego4"
   },
   "source": [
    "# **Derivadas**\n",
    "\n",
    "**sintaxe:**\n",
    "\n",
    "**diff(função,variável)**\n",
    "\n",
    "**1)** **Calcular** **a** **derivada** **de** **$ f(x)=2x^2+3x+5$**"
   ]
  },
  {
   "cell_type": "code",
   "execution_count": null,
   "metadata": {
    "colab": {
     "base_uri": "https://localhost:8080/",
     "height": 72
    },
    "id": "kisdhCjRbhpN",
    "outputId": "d83ad974-f9ae-49de-f5b4-8ecff2410ed6"
   },
   "outputs": [],
   "source": [
    "from sympy import *\n",
    "x=symbols('x')\n",
    "eq=2*x**2+3*x+5\n",
    "#calculo da deriva primeira\n",
    "r=diff(eq,x)\n",
    "print(r)\n",
    "#calcular o valor da derivada para x=1\n",
    "z=r.subs(x,1)\n",
    "print(z)\n",
    "#calculo da deriva segunda\n",
    "diff(eq,x,2)"
   ]
  },
  {
   "cell_type": "markdown",
   "metadata": {
    "id": "CvX5AsWZcQX6"
   },
   "source": [
    "# **Integrais Indefinidas**\n",
    "\n",
    "**sintaxe:**\n",
    "\n",
    "**integrate(função,variável)**"
   ]
  },
  {
   "cell_type": "markdown",
   "metadata": {
    "id": "OrKefauidWe2"
   },
   "source": [
    "**1) Calcular a integral de**\n",
    "$\\displaystyle \\int x^2\\,dx$. "
   ]
  },
  {
   "cell_type": "code",
   "execution_count": null,
   "metadata": {
    "colab": {
     "base_uri": "https://localhost:8080/",
     "height": 54
    },
    "id": "l1je1qHReDdg",
    "outputId": "675e6baf-81e9-4db3-a2a6-fe6a950c0eff"
   },
   "outputs": [],
   "source": [
    "from sympy import*\n",
    "# definir x e y como simbolicos\n",
    "x,y=symbols('x y')\n",
    "y=x**2\n",
    "integrate(y,x)"
   ]
  },
  {
   "cell_type": "markdown",
   "metadata": {
    "id": "l6YYarjYhJcX"
   },
   "source": [
    "**2) Calcular a integral de**\n",
    "$\\displaystyle \\int \\frac{x+1}{\\sqrt(x)},dx$. \n",
    "\n"
   ]
  },
  {
   "cell_type": "code",
   "execution_count": null,
   "metadata": {
    "colab": {
     "base_uri": "https://localhost:8080/",
     "height": 56
    },
    "id": "_7cC9ijCjvFe",
    "outputId": "4fc79963-44e1-404d-cfdf-350b9388d004"
   },
   "outputs": [],
   "source": [
    "from sympy import*\n",
    "x,y=symbols('x y')\n",
    "y=(x+1)/sqrt(x)\n",
    "integrate(y,x)"
   ]
  },
  {
   "cell_type": "markdown",
   "metadata": {
    "id": "dOMaITIpldMi"
   },
   "source": [
    "# **Integrais Definidas**\n",
    "\n",
    "**sintaxe:**\n",
    "\n",
    "**integrate(função, (variável, limite inferior, limite supieror))**"
   ]
  },
  {
   "cell_type": "markdown",
   "metadata": {
    "id": "pF3gVuuRmULT"
   },
   "source": [
    "**1) Calcular a integral de**\n",
    "$ \\displaystyle \\int_{2}^{4} x^2\\,dx $ "
   ]
  },
  {
   "cell_type": "code",
   "execution_count": null,
   "metadata": {
    "colab": {
     "base_uri": "https://localhost:8080/",
     "height": 51
    },
    "id": "ENn66QrCweMA",
    "outputId": "08fb6caa-cf06-4aca-f6f7-5d33f5f85a58"
   },
   "outputs": [],
   "source": [
    "from sympy import*\n",
    "x,y=symbols('x y')\n",
    "y=x**2\n",
    "integrate(y,(x,2,4))"
   ]
  },
  {
   "cell_type": "markdown",
   "metadata": {
    "id": "4DcnoFiDxjy9"
   },
   "source": [
    "# **Exemplo:**\n",
    "\n",
    "Construir o gráfico da função $f(x)=\\sqrt (x^2 + 1) +sin(x)$ com x variando de -10 até 10 com 50 pontos. Calcular a derivada de primeira ordem de f(x) e a derivada de terceira ordem. Calcular a integral indefinida de f(x). "
   ]
  },
  {
   "cell_type": "code",
   "execution_count": null,
   "metadata": {
    "id": "CfGWBzPIyp6u"
   },
   "outputs": [],
   "source": [
    "\n",
    "import matplotlib.pyplot as plt\n",
    "x = np.linspace(-10,10,50)\n",
    "y = np.sqrt(x**2+1)+np.sin(x)\n",
    "plt.plot(x,y)"
   ]
  },
  {
   "cell_type": "markdown",
   "metadata": {
    "id": "73yCyAneDiJQ"
   },
   "source": [
    "# **Exercícios:**"
   ]
  },
  {
   "cell_type": "markdown",
   "metadata": {
    "id": "6MCDgkWKBCYm"
   },
   "source": [
    "\n",
    "1)\tPlotar os gráficos das **f(x)=$x^2$+6x+9 e g(x)=2/x** separadamante e  com os gra´ficos sobrepostos. Usar como varição de x o intervalor de -5 até 5 com 20 pontos.\n",
    "\n",
    "\n"
   ]
  },
  {
   "cell_type": "code",
   "execution_count": null,
   "metadata": {
    "id": "jLwtUkaBD99f"
   },
   "outputs": [],
   "source": [
    "# digite aqui a solução"
   ]
  },
  {
   "cell_type": "markdown",
   "metadata": {
    "id": "aJBbuS68Deq5"
   },
   "source": [
    "2) Calcular o \n",
    "$\\displaystyle \\lim_{x\\to 3} \\frac{\\sqrt x - \\sqrt 3}{x-3}$"
   ]
  },
  {
   "cell_type": "code",
   "execution_count": null,
   "metadata": {
    "id": "MCgoQACuECmm"
   },
   "outputs": [],
   "source": [
    "# digite aqui a solução"
   ]
  },
  {
   "cell_type": "markdown",
   "metadata": {
    "id": "770HtoXhEHWF"
   },
   "source": [
    "3) Calcular a derivada de **f(x)=$(sen(x)+cos(x))^3$**"
   ]
  },
  {
   "cell_type": "code",
   "execution_count": null,
   "metadata": {
    "id": "SapBfQYMEWGd"
   },
   "outputs": [],
   "source": [
    "# digite aqui sua resposta"
   ]
  },
  {
   "cell_type": "markdown",
   "metadata": {
    "id": "GEnDhydvEZ31"
   },
   "source": [
    "4) Calcular a integral indefinida de \n",
    "$\\displaystyle \\int \\frac{1}{x^2+1} \\,dx$"
   ]
  },
  {
   "cell_type": "code",
   "execution_count": null,
   "metadata": {
    "id": "2viElPRdFf9I"
   },
   "outputs": [],
   "source": [
    "# digite aqui sua resposta"
   ]
  },
  {
   "cell_type": "markdown",
   "metadata": {
    "id": "4_CEL-vCFjAI"
   },
   "source": [
    "5) Calcular a derivada de terceira ordem da função f(x)=\n",
    "$\\displaystyle \\frac{x}{x+1} $\n"
   ]
  },
  {
   "cell_type": "code",
   "execution_count": null,
   "metadata": {
    "id": "xwxGlPD3Gi0j"
   },
   "outputs": [],
   "source": [
    "# digite aqui sua resposta"
   ]
  },
  {
   "cell_type": "markdown",
   "metadata": {
    "id": "VC5yXUf-Gl4Y"
   },
   "source": [
    "6) Calcular a seguinte integral definida:\n",
    "\n",
    "$ \\displaystyle \\int_{1}^{4} \\ sqrt(x) -\\frac{1}{x} + 3 \\,dx $ "
   ]
  },
  {
   "cell_type": "code",
   "execution_count": null,
   "metadata": {
    "id": "7YGi2p0iHWBq"
   },
   "outputs": [],
   "source": [
    "# digite aqui sua resposta"
   ]
  }
 ],
 "metadata": {
  "colab": {
   "provenance": []
  },
  "kernelspec": {
   "display_name": "Python 3 (ipykernel)",
   "language": "python",
   "name": "python3"
  },
  "language_info": {
   "codemirror_mode": {
    "name": "ipython",
    "version": 3
   },
   "file_extension": ".py",
   "mimetype": "text/x-python",
   "name": "python",
   "nbconvert_exporter": "python",
   "pygments_lexer": "ipython3",
   "version": "3.12.2"
  }
 },
 "nbformat": 4,
 "nbformat_minor": 4
}
