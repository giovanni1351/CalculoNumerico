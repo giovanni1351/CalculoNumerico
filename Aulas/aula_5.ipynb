{
 "cells": [
  {
   "cell_type": "markdown",
   "metadata": {
    "id": "-Vz2VEtr7wNG"
   },
   "source": [
    "# **ATIVIDADE 1 - CA4322 - TURMA 130**\n",
    "\n",
    "NOME:\n"
   ]
  },
  {
   "cell_type": "markdown",
   "metadata": {
    "id": "VVHN01n_7-cf"
   },
   "source": [
    "**Exercício 1:**\n",
    "\n",
    "Resolver o seguinte sistemas linear:\n",
    "$$\n",
    "\\left\\{\n",
    "\\begin{align}\n",
    "& x-2y+z+3t=0\\\\\n",
    "& 2x+2y-z+t=0\\\\\n",
    "& -x-y+3z+2t=0\\\\\n",
    "& x-8y-z+3t=0\n",
    "\\end{align}\n",
    "\\right.\n",
    "$$\n",
    "\n",
    "Responder:\\\n",
    "SPD para sistema possível e determinado\\\n",
    "SPI para sistema possível e indeerminado\\\n",
    "SI para sistema impossível\n",
    "          "
   ]
  },
  {
   "cell_type": "code",
   "metadata": {
    "id": "n_LToqwr9-V6",
    "ExecuteTime": {
     "end_time": "2024-09-18T22:20:55.745524Z",
     "start_time": "2024-09-18T22:20:55.729448Z"
    }
   },
   "source": [
    "# inserir a resolução do exercício e a resposta da forma solicitada\n",
    "import numpy as np\n",
    "def gaussElimin(C: np.array, n: int, m: int):\n",
    "    for k in range (0,n):\n",
    "        if C[k,k]==0:\n",
    "            for s in range (k+1,n):\n",
    "                if C[s,k]!=0:\n",
    "                    aux=C[k,:]\n",
    "                    C[k,:]=C[s,:]\n",
    "                    C[s,:]=aux\n",
    "        for i in range (k+1,n):\n",
    "            mik=C[i,k]/C[k,k]\n",
    "            for j in range (k,m):\n",
    "                C[i,j]=C[i,j]-mik*C[k,j] \n",
    "                      \n",
    "    return C\n",
    "A=np.array([[1,-2,1,3,0],[2,2,-1,1,0],[-1,-1,3,2,0],[1,-8,-1,3,0]])\n",
    "#transfoma em float\n",
    "A=A.astype(float)\n",
    "n = len(A)\n",
    "m = len(A[0])\n",
    "X= gaussElimin(A,n,m)\n",
    "if X[n-1,m-2]==0 and X[n-1,m-1]==0:\n",
    "    print('o sistema é indeterminado')\n",
    "elif X[n-1,m-2]==0 and [n-1,m-1]!=0:\n",
    "    print('o sistema é impossível')\n",
    "else:\n",
    "    x = n*[0]\n",
    "    for i in range(n-1, -1, -1):\n",
    "        s = sum([A[i][j]*x[j]for j in range(i+1,n)])\n",
    "        x[i] = (A[i][n] - s)/A[i][i]\n",
    "    print(x)"
   ],
   "outputs": [
    {
     "name": "stdout",
     "output_type": "stream",
     "text": [
      "o sistema é indeterminado\n"
     ]
    }
   ],
   "execution_count": 4
  },
  {
   "cell_type": "markdown",
   "metadata": {
    "id": "axGbd722D-oK"
   },
   "source": [
    "**Exercício 2:**\n",
    "\n",
    "Construir o gráfico da função f(x)=3x$^2$*exp(x-2) com x variando de -1 até 4 com 50 pontos. Calcular a derivada de primeira ordem de f(x) e a derivada de terceira ordem. Calcular a integral indefinida de f(x) e a integral definida com x variando entre 1 e 3. "
   ]
  },
  {
   "cell_type": "code",
   "metadata": {
    "id": "803NiOjjEWPp",
    "ExecuteTime": {
     "end_time": "2024-09-18T22:50:28.202989Z",
     "start_time": "2024-09-18T22:50:28.037986Z"
    }
   },
   "source": [
    "# inserir a resolução do exercíimport matplotlib.pyplot as plt\n",
    "import numpy as np\n",
    "import matplotlib.pyplot as plt\n",
    "from sympy import *\n",
    "# import sympy\n",
    "from scipy.integrate import quad\n",
    "x=symbols('x')\n",
    "expr= 3*x**2 *exp(x-2)  \n",
    "\n",
    "primeira_ordem=diff(expr,x,1)\n",
    "terceira_ordem=diff(expr,x,3)\n",
    "display(primeira_ordem)\n",
    "display(terceira_ordem)\n",
    "\n",
    "\n",
    "a = integrate(expr,x)\n",
    "display(a)\n",
    "\n",
    "def integrand(x):\n",
    "    return 3*x**2 *exp(x-2)  \n",
    "resultado = quad(integrand,1,3)\n",
    "display(resultado[0])\n",
    "\n",
    "#gráfico\n",
    "x = np.linspace(-1,4,50)\n",
    "y = 3*x**2*np.exp(x-2.0)\n",
    "\n",
    "plt.plot(x,y)\n"
   ],
   "outputs": [
    {
     "data": {
      "text/plain": [
       "3*x**2*exp(x - 2) + 6*x*exp(x - 2)"
      ],
      "text/latex": "$\\displaystyle 3 x^{2} e^{x - 2} + 6 x e^{x - 2}$"
     },
     "metadata": {},
     "output_type": "display_data"
    },
    {
     "data": {
      "text/plain": [
       "3*(x**2 + 6*x + 6)*exp(x - 2)"
      ],
      "text/latex": "$\\displaystyle 3 \\left(x^{2} + 6 x + 6\\right) e^{x - 2}$"
     },
     "metadata": {},
     "output_type": "display_data"
    },
    {
     "data": {
      "text/plain": [
       "(3*x**2 - 6*x + 6)*exp(x - 2)"
      ],
      "text/latex": "$\\displaystyle \\left(3 x^{2} - 6 x + 6\\right) e^{x - 2}$"
     },
     "metadata": {},
     "output_type": "display_data"
    },
    {
     "data": {
      "text/plain": [
       "39.67058910337135"
      ]
     },
     "metadata": {},
     "output_type": "display_data"
    },
    {
     "data": {
      "text/plain": [
       "[<matplotlib.lines.Line2D at 0x1c7065c2930>]"
      ]
     },
     "execution_count": 65,
     "metadata": {},
     "output_type": "execute_result"
    },
    {
     "data": {
      "text/plain": [
       "<Figure size 640x480 with 1 Axes>"
      ],
      "image/png": "[encoded data removed]"
     },
     "metadata": {},
     "output_type": "display_data"
    }
   ],
   "execution_count": 65
  },
  {
   "cell_type": "markdown",
   "metadata": {
    "id": "hF6eEuTiMJN8"
   },
   "source": [
    "**Exercício 3:**\n",
    "\n",
    "O dono de uma loja de materiais de fixação está repondo seu estoque de parafusos, porcas e arruelas. Os parafusos são fornecidos em caixas de 200 unidades, as porcas em caixas de 400 unidades e as arruelas em caixas de 200 unidades. Se ele comprar: 12 caixas de parafusos, 10 caixas de porcas e 9 caixas de arruela, gastará  3864,00 11 caixas de parafusos, 9 caixas de porcas e 7 caixas de arruela, gastará 3450,00 15 caixas de parafusos, 12 caixas de porcas e 6 caixas de arruela, gastará 4482,00 Determinar o custo unitário do parafuso, da porca e da arruela. Usar qualquer método de resolução computacional.\n",
    "\n",
    "Resposta: parafusos: 0,63 ; porcas: 0,48 ; arruelas: 0,24\n"
   ]
  },
  {
   "cell_type": "code",
   "metadata": {
    "id": "R0RF0E2iMnsk",
    "ExecuteTime": {
     "end_time": "2024-09-18T23:22:07.309575Z",
     "start_time": "2024-09-18T23:22:07.301086Z"
    }
   },
   "source": [
    "CaixaPorcas = 400\n",
    "CaixaParafusos = 200\n",
    "CaixaArruela = 200\n",
    "compras1 = {\n",
    "    'Parafusos':12*CaixaParafusos,\n",
    "    'Porcas':10*CaixaPorcas,\n",
    "    'Arruelas': 9*CaixaArruela,\n",
    "    'TotalGasto': 3864\n",
    "}\n",
    "\n",
    "compras2 = {\n",
    "    'Parafusos':11*CaixaParafusos,\n",
    "    'Porcas':9*CaixaPorcas,\n",
    "    'Arruelas': 7*CaixaArruela,\n",
    "    'TotalGasto': 3450\n",
    "}\n",
    "compras3 = {\n",
    "    'Parafusos':15*CaixaParafusos,\n",
    "    'Porcas':12*CaixaPorcas,\n",
    "    'Arruelas': 6*CaixaArruela,\n",
    "    'TotalGasto': 4482\n",
    "}\n",
    "\n",
    "matriz = np.array([list(compras1.values())[:-1],list(compras2.values())[:-1],list(compras3.values())[:-1]])\n",
    "sol  = np.array([[list(compras1.values())[3]],[list(compras2.values())[3]],[list(compras3.values())[3]]])\n",
    "Resp=np.linalg.solve(matriz,sol)\n",
    "\n",
    "print(\"Resultado do sistema linear\")\n",
    "print(Resp)\n",
    "\n"
   ],
   "outputs": [
    {
     "name": "stdout",
     "output_type": "stream",
     "text": [
      "Resultado do sistema linear\n",
      "[[0.63]\n",
      " [0.48]\n",
      " [0.24]]\n"
     ]
    }
   ],
   "execution_count": 103
  },
  {
   "cell_type": "markdown",
   "metadata": {
    "id": "zWQGOt9rMpm0"
   },
   "source": [
    "**Exercício 4:**\n",
    "\n",
    "Três turistas na Itália trocaram, por euros, as quantias descritas abaixo, determinar o valor do dólar em euros, o valor da libras esterlina em euros e o valor do real em euros, no dia da transação? Turista 1 - 200 dólares, 100 libras, 500 reais por 495,00 euros. Turista 2 - 250 dólares, 120 libras, 400 reais por 532,50 euros. Turista 3 - 400 dólares, 80 libras, 600 reais por 585,00 euros. Usar qualquer método de resolução computacional."
   ]
  },
  {
   "cell_type": "code",
   "metadata": {
    "id": "m3D5lF4QM8Tj",
    "ExecuteTime": {
     "end_time": "2024-09-18T23:24:10.266553Z",
     "start_time": "2024-09-18T23:24:10.256969Z"
    }
   },
   "source": [
    "import numpy as np\n",
    "matriz_A=np.matrix([[-200.0,100.0,500.0],[-250.0,120.0,400.0],[-400,80,600]])\n",
    "matriz_B=([[495.0],[532.50],[585.0]])\n",
    "sol=np.linalg.solve(matriz_A,matriz_B)\n",
    "print(sol)"
   ],
   "outputs": [
    {
     "name": "stdout",
     "output_type": "stream",
     "text": [
      "[[-0.51 ]\n",
      " [ 2.265]\n",
      " [ 0.333]]\n"
     ]
    }
   ],
   "execution_count": 104
  },
  {
   "cell_type": "markdown",
   "metadata": {
    "id": "1lDGFVEaOJ9s"
   },
   "source": [
    "**Exercício 5:**\n",
    "\n",
    "A partir da equação x$^2$+sen(x)-5=0, fazer o gráfico para localização da(s) raiz(es) e aplicar o Teorema de Bolzano no intervalo que contém a(s) raiz(es). Aplicar o Teorema de Bolzano no intervalo de -3 até 3. Escolher a função fsolve ou o método de Newton Raphson para calcular a maior raiz da equação."
   ]
  },
  {
   "cell_type": "code",
   "metadata": {
    "ExecuteTime": {
     "end_time": "2024-09-18T23:38:57.338881Z",
     "start_time": "2024-09-18T23:38:57.253170Z"
    }
   },
   "source": [
    "import matplotlib.pyplot as plt\n",
    "import numpy as np\n",
    "from scipy.optimize import fsolve\n",
    "from math import exp\n",
    "x = np.linspace(-3,3,20)\n",
    "y1 = x**2 - 5\n",
    "y2= np.sin(x)*-1\n",
    "plt.plot(x,y1,x,y2,linewidth = 3)\n",
    "plt.grid(True)\n",
    "plt.show()\n",
    "\n",
    "x = np.array([i for i in range(-4,5,1)]).reshape((1,9))\n",
    "y = x**2 + np.sin(x) - 5\n",
    "print(x)\n",
    "print(y)\n",
    "\n",
    "def y(x):\n",
    "  f=x**2 + np.sin(x) - 5\n",
    "  return f\n",
    "\n",
    "R=fsolve(y,2.5) # valor inicial para fsolve\n",
    "print(R)"
   ],
   "outputs": [
    {
     "data": {
      "text/plain": [
       "<Figure size 640x480 with 1 Axes>"
      ],
      "image/png": "[encoded data removed]"
     },
     "metadata": {},
     "output_type": "display_data"
    },
    {
     "name": "stdout",
     "output_type": "stream",
     "text": [
      "[[-4 -3 -2 -1  0  1  2  3  4]]\n",
      "[[11.7568025   3.85887999 -1.90929743 -4.84147098 -5.         -3.15852902\n",
      "  -0.09070257  4.14112001 10.2431975 ]]\n",
      "[2.02521164]\n"
     ]
    }
   ],
   "execution_count": 126
  }
 ],
 "metadata": {
  "colab": {
   "provenance": []
  },
  "kernelspec": {
   "display_name": "Python 3 (ipykernel)",
   "language": "python",
   "name": "python3"
  },
  "language_info": {
   "codemirror_mode": {
    "name": "ipython",
    "version": 3
   },
   "file_extension": ".py",
   "mimetype": "text/x-python",
   "name": "python",
   "nbconvert_exporter": "python",
   "pygments_lexer": "ipython3",
   "version": "3.9.12"
  }
 },
 "nbformat": 4,
 "nbformat_minor": 1
}
