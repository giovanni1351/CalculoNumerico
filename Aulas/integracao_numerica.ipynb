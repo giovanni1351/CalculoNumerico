{
 "cells": [
  {
   "cell_type": "markdown",
   "metadata": {},
   "source": []
  },
  {
   "cell_type": "markdown",
   "metadata": {},
   "source": [
    "## Exemplo com a função def trapezio"
   ]
  },
  {
   "cell_type": "markdown",
   "metadata": {},
   "source": [
    "# sintaxe função trapezio\n",
    "\n",
    "# trapezio(função, limite inferior,limite superior, número de subintervalos)"
   ]
  },
  {
   "cell_type": "code",
   "metadata": {
    "ExecuteTime": {
     "end_time": "2024-10-30T22:40:13.293986Z",
     "start_time": "2024-10-30T22:40:13.215025Z"
    }
   },
   "source": [
    "import numpy as np\n",
    "import matplotlib.pyplot as plt\n",
    "def trapezio(f,a,b,N):\n",
    "    \n",
    "    x = np.linspace(a,b,N+1) # N+1 pontos\n",
    "    y = f(x)\n",
    "    y_inter = y[1:N] # todos valores menos o primeiro e o ultimo\n",
    "    dx = (b - a)/N\n",
    "    T = (dx)*np.sum(y_inter)+(dx/2)*(y[0]+y[N])\n",
    "    return T\n",
    "\n",
    "trapezio(lambda x:3/(np.sqrt(x**2+3)),0.3,0.9,7)\n"
   ],
   "outputs": [
    {
     "data": {
      "text/plain": [
       "0.9788886931167743"
      ]
     },
     "execution_count": 23,
     "metadata": {},
     "output_type": "execute_result"
    }
   ],
   "execution_count": 23
  },
  {
   "cell_type": "markdown",
   "metadata": {},
   "source": [
    "## Exemplo com a função trapz"
   ]
  },
  {
   "cell_type": "markdown",
   "metadata": {},
   "source": [
    "# sintaxe da função np.trapz\n",
    "# np.trapz(y,x)"
   ]
  },
  {
   "cell_type": "code",
   "metadata": {
    "ExecuteTime": {
     "end_time": "2024-10-30T22:41:54.493085Z",
     "start_time": "2024-10-30T22:41:54.476997Z"
    }
   },
   "source": [
    "import numpy as np\n",
    "x = np.linspace(0.3,0.9,7)\n",
    "y = 3/(np.sqrt(x**2+3))\n",
    "I = np.trapz(y,x)\n",
    "print(I)"
   ],
   "outputs": [
    {
     "name": "stdout",
     "output_type": "stream",
     "text": [
      "0.9788450519984813\n"
     ]
    }
   ],
   "execution_count": 29
  },
  {
   "cell_type": "markdown",
   "metadata": {},
   "source": [
    "## Integral definida"
   ]
  },
  {
   "cell_type": "markdown",
   "metadata": {},
   "source": [
    "## si.quad"
   ]
  },
  {
   "cell_type": "code",
   "metadata": {
    "ExecuteTime": {
     "end_time": "2024-10-30T23:06:09.322866Z",
     "start_time": "2024-10-30T23:06:09.315185Z"
    }
   },
   "source": [
    "import scipy.integrate as si\n",
    "f= lambda x:3/(np.sqrt(x**2+3))\n",
    "i = si.quad(f, 0.3, 0.9)\n",
    "print (i)\n"
   ],
   "outputs": [
    {
     "name": "stdout",
     "output_type": "stream",
     "text": [
      "(0.9790095358917296, 1.0869189280745868e-14)\n"
     ]
    }
   ],
   "execution_count": 88
  },
  {
   "cell_type": "markdown",
   "metadata": {},
   "source": [
    "## integrate"
   ]
  },
  {
   "cell_type": "code",
   "metadata": {
    "ExecuteTime": {
     "end_time": "2024-10-30T22:40:58.093433Z",
     "start_time": "2024-10-30T22:40:57.992528Z"
    }
   },
   "source": [
    "from sympy import*\n",
    "import sympy as sp\n",
    "import numpy as np\n",
    "x=symbols('x')\n",
    "y=3/(sqrt(x**2+3))\n",
    "r=integrate(y,(x,0.3,0.9))\n",
    "print(r)"
   ],
   "outputs": [
    {
     "name": "stdout",
     "output_type": "stream",
     "text": [
      "-3*asinh(0.1*sqrt(3)) + 3*asinh(0.3*sqrt(3))\n"
     ]
    }
   ],
   "execution_count": 25
  },
  {
   "cell_type": "code",
   "metadata": {
    "ExecuteTime": {
     "end_time": "2024-10-30T22:40:59.632679Z",
     "start_time": "2024-10-30T22:40:59.601732Z"
    }
   },
   "source": [
    "-3*asinh(0.1*np.sqrt(3)) + 3*asinh(0.3*np.sqrt(3))\n"
   ],
   "outputs": [
    {
     "data": {
      "text/plain": [
       "0.979009535891729"
      ],
      "text/latex": "$\\displaystyle 0.979009535891729$"
     },
     "execution_count": 26,
     "metadata": {},
     "output_type": "execute_result"
    }
   ],
   "execution_count": 26
  },
  {
   "cell_type": "code",
   "metadata": {
    "ExecuteTime": {
     "end_time": "2024-10-30T22:42:05.036063Z",
     "start_time": "2024-10-30T22:42:05.030318Z"
    }
   },
   "source": [
    "I = np.trapz(y,x)\n",
    "print(I)"
   ],
   "outputs": [
    {
     "name": "stdout",
     "output_type": "stream",
     "text": [
      "0.9788450519984813\n"
     ]
    }
   ],
   "execution_count": 30
  },
  {
   "cell_type": "markdown",
   "metadata": {},
   "source": [
    "# Exemplo Método de Simpson"
   ]
  },
  {
   "cell_type": "markdown",
   "metadata": {},
   "source": [
    "# sintaxe da função simpson\n",
    "# simpson(limite inferior, limite superior, número de subintervalos)"
   ]
  },
  {
   "cell_type": "code",
   "metadata": {
    "ExecuteTime": {
     "end_time": "2024-10-30T22:55:40.058597Z",
     "start_time": "2024-10-30T22:55:40.052613Z"
    }
   },
   "source": [
    "import numpy as np\n",
    "# Define function to integrate\n",
    "def f(x):\n",
    "    # return (x**2+2*x-3)\n",
    "    return (x**2+2*x-3)\n",
    "\n",
    "# Implementing Simpson's 1/3 \n",
    "def simpson(x0,xn,n):\n",
    "    # calculating step size\n",
    "    h = (xn - x0) / n\n",
    "    \n",
    "    # Finding sum \n",
    "    integration = f(x0) + f(xn)\n",
    "    \n",
    "    for i in range(1,n):\n",
    "        k = x0 + i*h\n",
    "        \n",
    "        if i%2 == 0:\n",
    "            integration = integration + 2 * f(k)\n",
    "        else:\n",
    "            integration = integration + 4 * f(k)\n",
    "    \n",
    "    # Finding final integration value\n",
    "    integration = integration * h/3\n",
    "    \n",
    "    return integration"
   ],
   "outputs": [],
   "execution_count": 78
  },
  {
   "cell_type": "code",
   "metadata": {
    "ExecuteTime": {
     "end_time": "2024-10-30T22:55:49.071441Z",
     "start_time": "2024-10-30T22:55:49.065718Z"
    }
   },
   "source": [
    "result = simpson(-3, 1,4)\n",
    "print(\"Integracao resultado por Simpson é: %0.6f\" % (result) )"
   ],
   "outputs": [
    {
     "name": "stdout",
     "output_type": "stream",
     "text": [
      "Integracao resultado por Simpson é: -10.666667\n"
     ]
    }
   ],
   "execution_count": 80
  },
  {
   "metadata": {},
   "cell_type": "markdown",
   "source": [
    "# Calculando o Laboratorio\n",
    "## Exericio 1"
   ]
  },
  {
   "metadata": {
    "ExecuteTime": {
     "end_time": "2024-10-30T23:07:16.003556Z",
     "start_time": "2024-10-30T23:07:15.992602Z"
    }
   },
   "cell_type": "code",
   "source": [
    "def f(x):\n",
    "    # return (x**2+2*x-3)\n",
    "    return ((x+3)/(x**2-1))\n",
    "\n",
    "# Implementing Simpson's 1/3 \n",
    "def simpson(x0,xn,n):\n",
    "    # calculating step size\n",
    "    h = (xn - x0) / n\n",
    "    \n",
    "    # Finding sum \n",
    "    integration = f(x0) + f(xn)\n",
    "    \n",
    "    for i in range(1,n):\n",
    "        k = x0 + i*h\n",
    "        \n",
    "        if i%2 == 0:\n",
    "            integration = integration + 2 * f(k)\n",
    "        else:\n",
    "            integration = integration + 4 * f(k)\n",
    "    \n",
    "    # Finding final integration value\n",
    "    integration = integration * h/3\n",
    "    \n",
    "    return integration"
   ],
   "outputs": [],
   "execution_count": 93
  },
  {
   "metadata": {
    "ExecuteTime": {
     "end_time": "2024-10-30T23:12:14.954991Z",
     "start_time": "2024-10-30T23:12:14.879702Z"
    }
   },
   "cell_type": "code",
   "source": [
    "\n",
    "x=symbols('x')\n",
    "y=((x+3)/(x**2-1))\n",
    "r=integrate(y,(x,2,10))\n",
    "\n",
    "x = np.linspace(2, 10, 5)\n",
    "y = ((x+3)/(x**2-1))\n",
    "I = np.trapz(y, x)\n",
    "print(f'Metodo do trapz do numpy = {I:.3f}')\n",
    "print(f\"Valor do metodo do trapezio {trapezio(lambda x: ((x+3)/(x**2-1)) ,2,10,4):.3f}\")\n",
    "print(f\"Valor do simpson {simpson(2,10,4):.3f}\")\n",
    "print(f'Metodo integrate = {r:.3f}')\n",
    "print(f\"Valor do metodo do si.squad {si.quad(lambda x: ((x+3)/(x**2-1)) ,2,10)[0]:.3f}\")\n",
    "\n"
   ],
   "outputs": [
    {
     "name": "stdout",
     "output_type": "stream",
     "text": [
      "Metodo do trapz do numpy = 3.595\n",
      "Valor do metodo do trapezio 3.595\n",
      "Valor do simpson 3.252\n",
      "Metodo integrate = 3.095\n",
      "Valor do metodo do si.squad 3.095\n"
     ]
    }
   ],
   "execution_count": 110
  }
 ],
 "metadata": {
  "kernelspec": {
   "display_name": "Python 3 (ipykernel)",
   "language": "python",
   "name": "python3"
  },
  "language_info": {
   "codemirror_mode": {
    "name": "ipython",
    "version": 3
   },
   "file_extension": ".py",
   "mimetype": "text/x-python",
   "name": "python",
   "nbconvert_exporter": "python",
   "pygments_lexer": "ipython3",
   "version": "3.9.12"
  }
 },
 "nbformat": 4,
 "nbformat_minor": 4
}
