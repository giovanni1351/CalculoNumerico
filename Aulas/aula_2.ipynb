{
 "cells": [
  {
   "cell_type": "markdown",
   "metadata": {
    "id": "yCSClyJ8ouWs"
   },
   "source": [
    "## NumPy\n",
    "\n",
    "O `NumPy` é um pacote para computação científica em `Python`. Ela dá suporte para arrays e matrizes multidimensionais, e implementa operações e funções matemáticas eficientes sobre esses conjuntos.\n",
    "\n",
    "Na maior parte dos casos empregaremos as funções matemáticas do `NumPy`, como operações para manipulação de matrizes e vetores, funções trigonométricas, estatísticas e de randomização. O `Pandas`, pacote de manipulação de dados que empregaremos, é construído sobre o `NumPy`.\n",
    "\n",
    "Precisamos aqui de entender apenas algumas poucas classes de `NumPy` e, assim, um pequeno conjunto de exemplos será suficiente para nossos propósitos.\n",
    "\n"
   ]
  },
  {
   "cell_type": "markdown",
   "metadata": {
    "id": "J4T0DNJLpW4T"
   },
   "source": [
    "### Criando arrays\n",
    "\n",
    "Arrays podem ser de uma ou mais dimensões mas, diferentemente de listas `Python`, todos elementos devem ser do mesmo tipo. Arrays `Numpy` são indexados e seguem as mesmas regras de indexação do `Python` de listas e strings, isto é, iniciam por $0$ e o limite superior indicará o limite $<$ de range de valores a ser selecionado."
   ]
  },
  {
   "cell_type": "code",
   "metadata": {
    "colab": {
     "base_uri": "https://localhost:8080/"
    },
    "id": "3jyv8q38pr0D",
    "outputId": "d19ecb94-f4a6-4c96-ce42-5912e1b5f62c",
    "ExecuteTime": {
     "end_time": "2024-08-21T22:23:07.675696Z",
     "start_time": "2024-08-21T22:23:07.161945Z"
    }
   },
   "source": [
    "import numpy as np\n",
    "\n",
    "array1D = np.array([1,2,3])\n",
    "array2D = np.array([[1,2,3,4],[11,12,13,14],[21,22,23,24]])\n",
    "\n",
    "print(array1D.ndim, array2D.ndim) # dimensões\n",
    "print(array1D.shape, array2D.shape) # tamanho de cada dimensão\n",
    "\n",
    "print(array1D)\n",
    "print(array2D)\n",
    "\n",
    "print(array1D[1])\n",
    "print(array2D[1:3])\n",
    "print(array2D[1][3])"
   ],
   "outputs": [
    {
     "name": "stdout",
     "output_type": "stream",
     "text": [
      "1 2\n",
      "(3,) (3, 4)\n",
      "[1 2 3]\n",
      "[[ 1  2  3  4]\n",
      " [11 12 13 14]\n",
      " [21 22 23 24]]\n",
      "2\n",
      "[[11 12 13 14]\n",
      " [21 22 23 24]]\n",
      "14\n"
     ]
    }
   ],
   "execution_count": 1
  },
  {
   "cell_type": "markdown",
   "metadata": {
    "id": "fiuBJuQ6qssy"
   },
   "source": [
    "Os arrays `NumPy` operam como listas indexadas e você pode empregar as mesmas formas de índices e iteração que empregamos em listas para percorrer arrays `NumPy`."
   ]
  },
  {
   "cell_type": "code",
   "metadata": {
    "colab": {
     "base_uri": "https://localhost:8080/"
    },
    "id": "ktybvoGbreFQ",
    "outputId": "52fe4de4-e5c0-401b-d170-651354ff84e1",
    "ExecuteTime": {
     "end_time": "2024-08-21T22:23:07.689138Z",
     "start_time": "2024-08-21T22:23:07.677902Z"
    }
   },
   "source": [
    "for i in range(array1D.shape[0]):\n",
    "    print(i, array1D[i])\n",
    "\n",
    "for i in range(array2D.shape[0]):       # percorre as linhas\n",
    "  for j in range(array2D.shape[1]):     # percorre as colunas\n",
    "    print(i, j, array2D[i,j])\n",
    "\n",
    "for elem in array1D:\n",
    "    print(elem)\n",
    "\n",
    "for linha in array2D:                   # percorre as linhas\n",
    "  for coluna in linha:                  # percorre as colunas\n",
    "    print(coluna)"
   ],
   "outputs": [
    {
     "name": "stdout",
     "output_type": "stream",
     "text": [
      "0 1\n",
      "1 2\n",
      "2 3\n",
      "0 0 1\n",
      "0 1 2\n",
      "0 2 3\n",
      "0 3 4\n",
      "1 0 11\n",
      "1 1 12\n",
      "1 2 13\n",
      "1 3 14\n",
      "2 0 21\n",
      "2 1 22\n",
      "2 2 23\n",
      "2 3 24\n",
      "1\n",
      "2\n",
      "3\n",
      "1\n",
      "2\n",
      "3\n",
      "4\n",
      "11\n",
      "12\n",
      "13\n",
      "14\n",
      "21\n",
      "22\n",
      "23\n",
      "24\n"
     ]
    }
   ],
   "execution_count": 2
  },
  {
   "cell_type": "markdown",
   "metadata": {
    "id": "J_JDHeums6WB"
   },
   "source": [
    "### Operações sobre arrays `NumPy`\n",
    "\n",
    "Um dos recursos mais úteis do `NumPy`, e que não encontramos em linguagens como Java e C, é que diversas  operações podem ser executadas diretamente sobre toda a coleção de dados sem a necessidade de iterações ou laços de programa."
   ]
  },
  {
   "cell_type": "code",
   "metadata": {
    "colab": {
     "base_uri": "https://localhost:8080/"
    },
    "id": "it89cSyVteNT",
    "outputId": "a72cff22-7916-4e0b-ab6d-60a4f0195b06",
    "ExecuteTime": {
     "end_time": "2024-08-21T22:23:07.706928Z",
     "start_time": "2024-08-21T22:23:07.693141Z"
    }
   },
   "source": [
    "x = np.array([1,2,3])\n",
    "print( np.mean(x), np.sum(x), np.power(x,2) )\n",
    "print( 2*x, x+x, x**2 + 2*x + 1, np.log(x) )"
   ],
   "outputs": [
    {
     "name": "stdout",
     "output_type": "stream",
     "text": [
      "2.0 6 [1 4 9]\n",
      "[2 4 6] [2 4 6] [ 4  9 16] [0.         0.69314718 1.09861229]\n"
     ]
    }
   ],
   "execution_count": 3
  },
  {
   "cell_type": "markdown",
   "metadata": {
    "id": "E2CWZ8hWtvzB"
   },
   "source": [
    "### Outras Operações Úteis\n",
    "\n",
    "Ainda, algumas operações de conversão, randomização e criação de sequencias de valores são muito úteis e serão empregadas ao longo de todo o livro."
   ]
  },
  {
   "cell_type": "code",
   "metadata": {
    "colab": {
     "base_uri": "https://localhost:8080/"
    },
    "id": "5YLuCzPDouWt",
    "outputId": "34228ed4-bc5a-41b9-910c-8be5079bbd3c",
    "ExecuteTime": {
     "end_time": "2024-08-21T22:23:07.731124Z",
     "start_time": "2024-08-21T22:23:07.706928Z"
    }
   },
   "source": [
    "x = np.array([1,2,3])\n",
    "\n",
    "x_list = x.tolist()  # convertendo um NumPy array para uma lista `Python`\n",
    "print(x, x_list)\n",
    "\n",
    "np.random.seed(1984)                                    # semente de geração aleatória\n",
    "print( np.random.randint(low=1, high=6, size=10) )      # gerando inteiros aleatórios\n",
    "print( np.random.rand(4) )                              # gerando valores aleatórios entre [0,1]\n",
    "print( np.random.sample(5) )                            # gerando um sample de dados aleatórios\n",
    "\n",
    "print( np.arange( 10, 20, 2) )     # gerando uma lista de valores no intervalo [10,20[ com incrementos de 2\n",
    "\n",
    "print( np.linspace( 10, 20, 50) )  # gerando uma lista de valores de 50 valores no intervalo [10,20[\n"
   ],
   "outputs": [
    {
     "name": "stdout",
     "output_type": "stream",
     "text": [
      "[1 2 3] [1, 2, 3]\n",
      "[5 4 2 1 1 3 3 2 3 1]\n",
      "[0.99873856 0.89441845 0.26139183 0.73330439]\n",
      "[0.14629798 0.17234917 0.61481704 0.59564882 0.68232631]\n",
      "[10 12 14 16 18]\n",
      "[10.         10.20408163 10.40816327 10.6122449  10.81632653 11.02040816\n",
      " 11.2244898  11.42857143 11.63265306 11.83673469 12.04081633 12.24489796\n",
      " 12.44897959 12.65306122 12.85714286 13.06122449 13.26530612 13.46938776\n",
      " 13.67346939 13.87755102 14.08163265 14.28571429 14.48979592 14.69387755\n",
      " 14.89795918 15.10204082 15.30612245 15.51020408 15.71428571 15.91836735\n",
      " 16.12244898 16.32653061 16.53061224 16.73469388 16.93877551 17.14285714\n",
      " 17.34693878 17.55102041 17.75510204 17.95918367 18.16326531 18.36734694\n",
      " 18.57142857 18.7755102  18.97959184 19.18367347 19.3877551  19.59183673\n",
      " 19.79591837 20.        ]\n"
     ]
    }
   ],
   "execution_count": 4
  },
  {
   "cell_type": "markdown",
   "metadata": {
    "id": "MwYZaE9rd2Pm"
   },
   "source": [
    "#### NumPy functions\n",
    "\n",
    "As funções básicas estão disponíveis nativamente, mas para muitas funções matemáticas como funções trigonométricas, randomização e constantes como o $\\pi$ e $e$ é necessário recorrer a bibliotecas numéricas como o `NumPy` ou  `math` e, em geral, empregaremos o `NumPy`.\n",
    "\n"
   ]
  },
  {
   "cell_type": "code",
   "metadata": {
    "colab": {
     "base_uri": "https://localhost:8080/"
    },
    "id": "Ud0GcfPXouUy",
    "outputId": "e46f8845-d0fa-446c-8d7d-26ad3e2fec2d",
    "ExecuteTime": {
     "end_time": "2024-08-21T22:23:07.743508Z",
     "start_time": "2024-08-21T22:23:07.731124Z"
    }
   },
   "source": [
    "import numpy as np\n",
    "\n",
    "print(np.pi)            # pi\n",
    "print(np.exp(1))        # e\n",
    "\n",
    "print(5 % 2)\n",
    "# o mesmo que\n",
    "print(np.mod(5,2))\n",
    "\n",
    "print(np.random.rand(1))\n",
    "print(np.random.sample(10))"
   ],
   "outputs": [
    {
     "name": "stdout",
     "output_type": "stream",
     "text": [
      "3.141592653589793\n",
      "2.718281828459045\n",
      "1\n",
      "1\n",
      "[0.6222255]\n",
      "[0.27434577 0.94900978 0.0711977  0.76115161 0.77789187 0.19048369\n",
      " 0.18946263 0.39458303 0.35415793 0.0463781 ]\n"
     ]
    }
   ],
   "execution_count": 5
  },
  {
   "cell_type": "markdown",
   "metadata": {},
   "source": [
    "### Operações com matrizes"
   ]
  },
  {
   "cell_type": "markdown",
   "metadata": {},
   "source": [
    "Exemplo:\n",
    "Dadas as matrizes A=[1 0 3; 5 4 1; 2 3 1] e B=[3 1 4; 1 2 1; 3 1 1],\n",
    "\n",
    "determinar:\n",
    "\n",
    "A+B          % soma de matrizes\n",
    "\n",
    "A*B           % multiplicação de matrizes\n",
    "\n",
    "det(A)       % determinante da matriz A\n",
    "\n",
    "B'              % transposta da matriz B\n",
    "\n",
    "2*B           % multiplicação de um número real pela matriz B\n",
    "\n",
    "inv(A)        % matriz inversa de A\n",
    "\n",
    "eye(3)       % matriz identidade de 3 linhas e 3 colunas\n",
    "\n",
    "zeros(3,2) % matriz de 3 linhas e duas colunas com valores zeros\n"
   ]
  },
  {
   "cell_type": "code",
   "metadata": {
    "ExecuteTime": {
     "end_time": "2024-08-21T22:23:07.759658Z",
     "start_time": "2024-08-21T22:23:07.750217Z"
    }
   },
   "source": [
    "import numpy as np\n",
    "A=np.array([[1,0,3],[5,4,1],[2,3,1]])\n",
    "print('A=\\n',A)\n",
    "B=np.array([[3,1,4],[1,2,1],[3,1,1]])\n",
    "print('B=\\n',B)"
   ],
   "outputs": [
    {
     "name": "stdout",
     "output_type": "stream",
     "text": [
      "A=\n",
      " [[1 0 3]\n",
      " [5 4 1]\n",
      " [2 3 1]]\n",
      "B=\n",
      " [[3 1 4]\n",
      " [1 2 1]\n",
      " [3 1 1]]\n"
     ]
    }
   ],
   "execution_count": 6
  },
  {
   "cell_type": "code",
   "metadata": {
    "ExecuteTime": {
     "end_time": "2024-08-21T22:23:07.770028Z",
     "start_time": "2024-08-21T22:23:07.760797Z"
    }
   },
   "source": [
    "C=A+B\n",
    "print('C=\\n',C)"
   ],
   "outputs": [
    {
     "name": "stdout",
     "output_type": "stream",
     "text": [
      "C=\n",
      " [[4 1 7]\n",
      " [6 6 2]\n",
      " [5 4 2]]\n"
     ]
    }
   ],
   "execution_count": 7
  },
  {
   "cell_type": "code",
   "metadata": {
    "ExecuteTime": {
     "end_time": "2024-08-21T22:23:07.780553Z",
     "start_time": "2024-08-21T22:23:07.772676Z"
    }
   },
   "source": [
    "D=np.dot(A,B)\n",
    "print('D=\\n',D)"
   ],
   "outputs": [
    {
     "name": "stdout",
     "output_type": "stream",
     "text": [
      "D=\n",
      " [[12  4  7]\n",
      " [22 14 25]\n",
      " [12  9 12]]\n"
     ]
    }
   ],
   "execution_count": 8
  },
  {
   "cell_type": "code",
   "metadata": {
    "ExecuteTime": {
     "end_time": "2024-08-21T22:23:07.799913Z",
     "start_time": "2024-08-21T22:23:07.782959Z"
    }
   },
   "source": [
    "det=np.linalg.det(A)\n",
    "print('%.2f'% det)"
   ],
   "outputs": [
    {
     "name": "stdout",
     "output_type": "stream",
     "text": [
      "22.00\n"
     ]
    }
   ],
   "execution_count": 9
  },
  {
   "cell_type": "code",
   "metadata": {
    "ExecuteTime": {
     "end_time": "2024-08-21T22:23:07.811120Z",
     "start_time": "2024-08-21T22:23:07.801765Z"
    }
   },
   "source": [
    "print('\\nObtendo a transposta')\n",
    "a_transposta = B.T\n",
    "print(a_transposta)\n",
    "print(a_transposta.shape)"
   ],
   "outputs": [
    {
     "name": "stdout",
     "output_type": "stream",
     "text": [
      "\n",
      "Obtendo a transposta\n",
      "[[3 1 3]\n",
      " [1 2 1]\n",
      " [4 1 1]]\n",
      "(3, 3)\n"
     ]
    }
   ],
   "execution_count": 10
  },
  {
   "cell_type": "code",
   "metadata": {
    "ExecuteTime": {
     "end_time": "2024-08-21T22:23:07.823236Z",
     "start_time": "2024-08-21T22:23:07.815229Z"
    }
   },
   "source": [
    "E=2*B\n",
    "print('E=\\n',E)"
   ],
   "outputs": [
    {
     "name": "stdout",
     "output_type": "stream",
     "text": [
      "E=\n",
      " [[6 2 8]\n",
      " [2 4 2]\n",
      " [6 2 2]]\n"
     ]
    }
   ],
   "execution_count": 11
  },
  {
   "cell_type": "code",
   "metadata": {
    "ExecuteTime": {
     "end_time": "2024-08-21T22:23:07.853699Z",
     "start_time": "2024-08-21T22:23:07.823746Z"
    }
   },
   "source": [
    "inv=np.linalg.inv(A)\n",
    "print(inv)"
   ],
   "outputs": [
    {
     "name": "stdout",
     "output_type": "stream",
     "text": [
      "[[ 0.04545455  0.40909091 -0.54545455]\n",
      " [-0.13636364 -0.22727273  0.63636364]\n",
      " [ 0.31818182 -0.13636364  0.18181818]]\n"
     ]
    }
   ],
   "execution_count": 12
  },
  {
   "cell_type": "code",
   "metadata": {
    "ExecuteTime": {
     "end_time": "2024-08-21T22:23:07.866919Z",
     "start_time": "2024-08-21T22:23:07.853699Z"
    }
   },
   "source": [
    "F=np.identity(3)\n",
    "print('F=\\n',F)"
   ],
   "outputs": [
    {
     "name": "stdout",
     "output_type": "stream",
     "text": [
      "F=\n",
      " [[1. 0. 0.]\n",
      " [0. 1. 0.]\n",
      " [0. 0. 1.]]\n"
     ]
    }
   ],
   "execution_count": 13
  },
  {
   "cell_type": "code",
   "metadata": {
    "ExecuteTime": {
     "end_time": "2024-08-21T22:23:07.880565Z",
     "start_time": "2024-08-21T22:23:07.869431Z"
    }
   },
   "source": [
    "G=np.zeros((3,2))\n",
    "print('G=\\n',G)"
   ],
   "outputs": [
    {
     "name": "stdout",
     "output_type": "stream",
     "text": [
      "G=\n",
      " [[0. 0.]\n",
      " [0. 0.]\n",
      " [0. 0.]]\n"
     ]
    }
   ],
   "execution_count": 14
  },
  {
   "cell_type": "markdown",
   "metadata": {
    "id": "EyFbZVilnhQp"
   },
   "source": [
    "\n",
    "## Pandas\n",
    "\n",
    "O `Pandas` é um pacote `Python` construído sobre `Numpy` para manipulação e análise de dados orientado a colunas. Ele organiza os dados em dois tipos de estruturas, `Series` e `DataFrames`, e opera seleções e transformações sobre essas coleções.\n",
    "\n",
    "* **`DataFrame`**: você pode entender um `DataFrame` como uma tabela de dados relacionais, com linhas e colunas nomeadas, como você encontra em Excel ou na SQL.\n",
    "\n",
    "* **`Series`**: é uma única coluna de dados somente com os seus valores, e o `DataFrame` contém um ou mais `Series` com um nome para cada uma delas.\n",
    "\n",
    "O `DataFrame`, implementado em `Python`, é uma abstração comumente usada para manipulação de dados que tem origem na linguagem R, mas você encontrará implementações similares também em outras linguagens.\n"
   ]
  },
  {
   "cell_type": "markdown",
   "metadata": {
    "id": "96GHLNV9nhQs"
   },
   "source": [
    "### Import da biblioteca"
   ]
  },
  {
   "cell_type": "code",
   "metadata": {
    "id": "5b3eOLDUnhQt",
    "ExecuteTime": {
     "end_time": "2024-08-21T22:23:08.794078Z",
     "start_time": "2024-08-21T22:23:07.880565Z"
    }
   },
   "source": [
    "import pandas as pd\n",
    "import numpy as np"
   ],
   "outputs": [],
   "execution_count": 15
  },
  {
   "cell_type": "markdown",
   "metadata": {
    "id": "uYc9EZFLhMmX"
   },
   "source": [
    "### Criando um `pd.Series` e um `pd.DataFrame`"
   ]
  },
  {
   "cell_type": "markdown",
   "metadata": {
    "id": "fjnAk1xcU0yc"
   },
   "source": [
    "Uma `pd.Series` pode ser criada a partir de uma lista e um `pd.Dataframe` pode ser criado empregando-se uma estrutura de dicionário."
   ]
  },
  {
   "cell_type": "code",
   "metadata": {
    "colab": {
     "base_uri": "https://localhost:8080/",
     "height": 142
    },
    "id": "DFZ42Uq7UFDj",
    "outputId": "11204751-3674-4ae9-a30a-fa8666dddc05",
    "ExecuteTime": {
     "end_time": "2024-08-21T22:23:08.818461Z",
     "start_time": "2024-08-21T22:23:08.795841Z"
    }
   },
   "source": [
    "# Séries\n",
    "student_names = pd.Series(['Adriana', 'Carol', 'Daniel'])\n",
    "age = pd.Series([18, 19, 19])\n",
    "\n",
    "# DataFrame\n",
    "students = pd.DataFrame({ 'Student Name': student_names, 'Age': age })\n",
    "students\n"
   ],
   "outputs": [
    {
     "data": {
      "text/plain": [
       "  Student Name  Age\n",
       "0      Adriana   18\n",
       "1        Carol   19\n",
       "2       Daniel   19"
      ],
      "text/html": [
       "<div>\n",
       "<style scoped>\n",
       "    .dataframe tbody tr th:only-of-type {\n",
       "        vertical-align: middle;\n",
       "    }\n",
       "\n",
       "    .dataframe tbody tr th {\n",
       "        vertical-align: top;\n",
       "    }\n",
       "\n",
       "    .dataframe thead th {\n",
       "        text-align: right;\n",
       "    }\n",
       "</style>\n",
       "<table border=\"1\" class=\"dataframe\">\n",
       "  <thead>\n",
       "    <tr style=\"text-align: right;\">\n",
       "      <th></th>\n",
       "      <th>Student Name</th>\n",
       "      <th>Age</th>\n",
       "    </tr>\n",
       "  </thead>\n",
       "  <tbody>\n",
       "    <tr>\n",
       "      <th>0</th>\n",
       "      <td>Adriana</td>\n",
       "      <td>18</td>\n",
       "    </tr>\n",
       "    <tr>\n",
       "      <th>1</th>\n",
       "      <td>Carol</td>\n",
       "      <td>19</td>\n",
       "    </tr>\n",
       "    <tr>\n",
       "      <th>2</th>\n",
       "      <td>Daniel</td>\n",
       "      <td>19</td>\n",
       "    </tr>\n",
       "  </tbody>\n",
       "</table>\n",
       "</div>"
      ]
     },
     "execution_count": 16,
     "metadata": {},
     "output_type": "execute_result"
    }
   ],
   "execution_count": 16
  },
  {
   "cell_type": "markdown",
   "metadata": {
    "id": "8-4imx64nhQ0"
   },
   "source": [
    "### Lendo um `DataFrame`\n",
    "\n",
    "O uso mais comum do `Pandas` que faremos é para o acesso a arquivos e bases de dados e o `Pandas` permite ler e gravar dados de diferentes fontes como arquivos `.csv, .json, .xlsx` e bancos de dados `sql`, Mongo etc.\n",
    "\n",
    "\n",
    "| Format        | Read           | Save          |\n",
    "| ------------- |:--------------:| ----------------:|\n",
    "| csv           | `pd.read_csv()`  |`df.to_csv()`     |\n",
    "| json          | `pd.read_json()` |`df.to_json()`    |\n",
    "| xlsx          | `pd.read_excel()`|`df.to_excel()`   |\n",
    "| hdf           | `pd.read_hdf()`  |`df.to_hdf()`     |\n",
    "| sql           | `pd.read_sql()`  |`df.to_sql()`     |\n",
    "\n",
    "acessados local ou pela internet.\n"
   ]
  },
  {
   "cell_type": "code",
   "metadata": {
    "colab": {
     "base_uri": "https://localhost:8080/",
     "height": 204
    },
    "id": "bZ7JDDTFh1tn",
    "outputId": "51150103-c5da-4578-cf62-d7f93f0fd43d",
    "ExecuteTime": {
     "end_time": "2024-08-21T22:39:25.151977Z",
     "start_time": "2024-08-21T22:39:24.816409Z"
    }
   },
   "source": [
    "tips = pd.read_csv('https://raw.githubusercontent.com/Rogerio-mack/Visualizacao-de-Dados-em-Python/main/data/tips.csv')\n",
    "tips.head()\n"
   ],
   "outputs": [
    {
     "data": {
      "text/plain": [
       "    total_bill   tip     sex smoker  day    time  size\n",
       "0        16.99  1.01  Female     No  Sun  Dinner     2\n",
       "1        10.34  1.66    Male     No  Sun  Dinner     3\n",
       "2        21.01  3.50    Male     No  Sun  Dinner     3\n",
       "3        23.68  3.31    Male     No  Sun  Dinner     2\n",
       "4        24.59  3.61  Female     No  Sun  Dinner     4\n",
       "..         ...   ...     ...    ...  ...     ...   ...\n",
       "95       40.17  4.73    Male    Yes  Fri  Dinner     4\n",
       "96       27.28  4.00    Male    Yes  Fri  Dinner     2\n",
       "97       12.03  1.50    Male    Yes  Fri  Dinner     2\n",
       "98       21.01  3.00    Male    Yes  Fri  Dinner     2\n",
       "99       12.46  1.50    Male     No  Fri  Dinner     2\n",
       "\n",
       "[100 rows x 7 columns]"
      ],
      "text/html": [
       "<div>\n",
       "<style scoped>\n",
       "    .dataframe tbody tr th:only-of-type {\n",
       "        vertical-align: middle;\n",
       "    }\n",
       "\n",
       "    .dataframe tbody tr th {\n",
       "        vertical-align: top;\n",
       "    }\n",
       "\n",
       "    .dataframe thead th {\n",
       "        text-align: right;\n",
       "    }\n",
       "</style>\n",
       "<table border=\"1\" class=\"dataframe\">\n",
       "  <thead>\n",
       "    <tr style=\"text-align: right;\">\n",
       "      <th></th>\n",
       "      <th>total_bill</th>\n",
       "      <th>tip</th>\n",
       "      <th>sex</th>\n",
       "      <th>smoker</th>\n",
       "      <th>day</th>\n",
       "      <th>time</th>\n",
       "      <th>size</th>\n",
       "    </tr>\n",
       "  </thead>\n",
       "  <tbody>\n",
       "    <tr>\n",
       "      <th>0</th>\n",
       "      <td>16.99</td>\n",
       "      <td>1.01</td>\n",
       "      <td>Female</td>\n",
       "      <td>No</td>\n",
       "      <td>Sun</td>\n",
       "      <td>Dinner</td>\n",
       "      <td>2</td>\n",
       "    </tr>\n",
       "    <tr>\n",
       "      <th>1</th>\n",
       "      <td>10.34</td>\n",
       "      <td>1.66</td>\n",
       "      <td>Male</td>\n",
       "      <td>No</td>\n",
       "      <td>Sun</td>\n",
       "      <td>Dinner</td>\n",
       "      <td>3</td>\n",
       "    </tr>\n",
       "    <tr>\n",
       "      <th>2</th>\n",
       "      <td>21.01</td>\n",
       "      <td>3.50</td>\n",
       "      <td>Male</td>\n",
       "      <td>No</td>\n",
       "      <td>Sun</td>\n",
       "      <td>Dinner</td>\n",
       "      <td>3</td>\n",
       "    </tr>\n",
       "    <tr>\n",
       "      <th>3</th>\n",
       "      <td>23.68</td>\n",
       "      <td>3.31</td>\n",
       "      <td>Male</td>\n",
       "      <td>No</td>\n",
       "      <td>Sun</td>\n",
       "      <td>Dinner</td>\n",
       "      <td>2</td>\n",
       "    </tr>\n",
       "    <tr>\n",
       "      <th>4</th>\n",
       "      <td>24.59</td>\n",
       "      <td>3.61</td>\n",
       "      <td>Female</td>\n",
       "      <td>No</td>\n",
       "      <td>Sun</td>\n",
       "      <td>Dinner</td>\n",
       "      <td>4</td>\n",
       "    </tr>\n",
       "    <tr>\n",
       "      <th>...</th>\n",
       "      <td>...</td>\n",
       "      <td>...</td>\n",
       "      <td>...</td>\n",
       "      <td>...</td>\n",
       "      <td>...</td>\n",
       "      <td>...</td>\n",
       "      <td>...</td>\n",
       "    </tr>\n",
       "    <tr>\n",
       "      <th>95</th>\n",
       "      <td>40.17</td>\n",
       "      <td>4.73</td>\n",
       "      <td>Male</td>\n",
       "      <td>Yes</td>\n",
       "      <td>Fri</td>\n",
       "      <td>Dinner</td>\n",
       "      <td>4</td>\n",
       "    </tr>\n",
       "    <tr>\n",
       "      <th>96</th>\n",
       "      <td>27.28</td>\n",
       "      <td>4.00</td>\n",
       "      <td>Male</td>\n",
       "      <td>Yes</td>\n",
       "      <td>Fri</td>\n",
       "      <td>Dinner</td>\n",
       "      <td>2</td>\n",
       "    </tr>\n",
       "    <tr>\n",
       "      <th>97</th>\n",
       "      <td>12.03</td>\n",
       "      <td>1.50</td>\n",
       "      <td>Male</td>\n",
       "      <td>Yes</td>\n",
       "      <td>Fri</td>\n",
       "      <td>Dinner</td>\n",
       "      <td>2</td>\n",
       "    </tr>\n",
       "    <tr>\n",
       "      <th>98</th>\n",
       "      <td>21.01</td>\n",
       "      <td>3.00</td>\n",
       "      <td>Male</td>\n",
       "      <td>Yes</td>\n",
       "      <td>Fri</td>\n",
       "      <td>Dinner</td>\n",
       "      <td>2</td>\n",
       "    </tr>\n",
       "    <tr>\n",
       "      <th>99</th>\n",
       "      <td>12.46</td>\n",
       "      <td>1.50</td>\n",
       "      <td>Male</td>\n",
       "      <td>No</td>\n",
       "      <td>Fri</td>\n",
       "      <td>Dinner</td>\n",
       "      <td>2</td>\n",
       "    </tr>\n",
       "  </tbody>\n",
       "</table>\n",
       "<p>100 rows × 7 columns</p>\n",
       "</div>"
      ]
     },
     "execution_count": 36,
     "metadata": {},
     "output_type": "execute_result"
    }
   ],
   "execution_count": 36
  },
  {
   "cell_type": "markdown",
   "metadata": {
    "id": "bLBgbbIC2-ZT"
   },
   "source": [
    "Acima, o comando `df.head()` exibe o aspecto inicial dos dados a partir de suas primeiras linhas."
   ]
  },
  {
   "cell_type": "markdown",
   "metadata": {
    "id": "Qt1MgTahrEHU"
   },
   "source": [
    "### Explorando a estrutura básica dos dados\n",
    "\n",
    "Antes de explorarmos o conteúdo dos dados é útil acessar informações sobre a estrutura dos dados que estamos lidando, como os valores que assumem os dados, quantas linhas temos em uma tabela, o número de atributos e os tipos dos dados."
   ]
  },
  {
   "cell_type": "code",
   "metadata": {
    "colab": {
     "base_uri": "https://localhost:8080/"
    },
    "id": "DY9H5H2mr4y5",
    "outputId": "0b7b6405-b629-4ba2-8628-757d616c2b74",
    "ExecuteTime": {
     "end_time": "2024-08-21T22:23:08.954911Z",
     "start_time": "2024-08-21T22:23:08.949906Z"
    }
   },
   "source": [
    "tips.shape # nr de linhas e colunas"
   ],
   "outputs": [
    {
     "data": {
      "text/plain": [
       "(244, 7)"
      ]
     },
     "execution_count": 18,
     "metadata": {},
     "output_type": "execute_result"
    }
   ],
   "execution_count": 18
  },
  {
   "cell_type": "code",
   "metadata": {
    "colab": {
     "base_uri": "https://localhost:8080/"
    },
    "id": "KFexepHPsCvc",
    "outputId": "bb4f3caf-a3a3-47a2-81ad-c02ba53e8f32",
    "ExecuteTime": {
     "end_time": "2024-08-21T22:23:08.962655Z",
     "start_time": "2024-08-21T22:23:08.956214Z"
    }
   },
   "source": [
    "len(tips) # número de linhas"
   ],
   "outputs": [
    {
     "data": {
      "text/plain": [
       "244"
      ]
     },
     "execution_count": 19,
     "metadata": {},
     "output_type": "execute_result"
    }
   ],
   "execution_count": 19
  },
  {
   "cell_type": "code",
   "metadata": {
    "colab": {
     "base_uri": "https://localhost:8080/"
    },
    "id": "2p4ahOEvsF_N",
    "outputId": "9bacab95-dfe2-4e94-a01f-5b9b0f02548d",
    "ExecuteTime": {
     "end_time": "2024-08-21T22:23:08.971136Z",
     "start_time": "2024-08-21T22:23:08.962655Z"
    }
   },
   "source": [
    "tips.columns.to_list() # ou tips.columns"
   ],
   "outputs": [
    {
     "data": {
      "text/plain": [
       "['total_bill', 'tip', 'sex', 'smoker', 'day', 'time', 'size']"
      ]
     },
     "execution_count": 20,
     "metadata": {},
     "output_type": "execute_result"
    }
   ],
   "execution_count": 20
  },
  {
   "cell_type": "code",
   "metadata": {
    "colab": {
     "base_uri": "https://localhost:8080/"
    },
    "id": "gFRccv18sMSN",
    "outputId": "50c6ce22-ada6-4a61-eb03-b956bf779345",
    "ExecuteTime": {
     "end_time": "2024-08-21T22:23:09.000749Z",
     "start_time": "2024-08-21T22:23:08.971136Z"
    }
   },
   "source": [
    "tips.dtypes # tipo dos atributos"
   ],
   "outputs": [
    {
     "data": {
      "text/plain": [
       "total_bill    float64\n",
       "tip           float64\n",
       "sex            object\n",
       "smoker         object\n",
       "day            object\n",
       "time           object\n",
       "size            int64\n",
       "dtype: object"
      ]
     },
     "execution_count": 21,
     "metadata": {},
     "output_type": "execute_result"
    }
   ],
   "execution_count": 21
  },
  {
   "cell_type": "markdown",
   "metadata": {
    "id": "Sw8Xa5TTs8EU"
   },
   "source": [
    "O comando `describe()` exibe informações estatísticas sumarizadas dos dados."
   ]
  },
  {
   "cell_type": "code",
   "metadata": {
    "colab": {
     "base_uri": "https://localhost:8080/",
     "height": 390
    },
    "id": "LJaweMWOsZV1",
    "outputId": "75203439-11f3-42f2-dd58-45484c4b274c",
    "ExecuteTime": {
     "end_time": "2024-08-21T22:23:09.037528Z",
     "start_time": "2024-08-21T22:23:09.000749Z"
    }
   },
   "source": [
    "tips.describe(include='all')"
   ],
   "outputs": [
    {
     "data": {
      "text/plain": [
       "        total_bill         tip   sex smoker  day    time        size\n",
       "count   244.000000  244.000000   244    244  244     244  244.000000\n",
       "unique         NaN         NaN     2      2    4       2         NaN\n",
       "top            NaN         NaN  Male     No  Sat  Dinner         NaN\n",
       "freq           NaN         NaN   157    151   87     176         NaN\n",
       "mean     19.785943    2.998279   NaN    NaN  NaN     NaN    2.569672\n",
       "std       8.902412    1.383638   NaN    NaN  NaN     NaN    0.951100\n",
       "min       3.070000    1.000000   NaN    NaN  NaN     NaN    1.000000\n",
       "25%      13.347500    2.000000   NaN    NaN  NaN     NaN    2.000000\n",
       "50%      17.795000    2.900000   NaN    NaN  NaN     NaN    2.000000\n",
       "75%      24.127500    3.562500   NaN    NaN  NaN     NaN    3.000000\n",
       "max      50.810000   10.000000   NaN    NaN  NaN     NaN    6.000000"
      ],
      "text/html": [
       "<div>\n",
       "<style scoped>\n",
       "    .dataframe tbody tr th:only-of-type {\n",
       "        vertical-align: middle;\n",
       "    }\n",
       "\n",
       "    .dataframe tbody tr th {\n",
       "        vertical-align: top;\n",
       "    }\n",
       "\n",
       "    .dataframe thead th {\n",
       "        text-align: right;\n",
       "    }\n",
       "</style>\n",
       "<table border=\"1\" class=\"dataframe\">\n",
       "  <thead>\n",
       "    <tr style=\"text-align: right;\">\n",
       "      <th></th>\n",
       "      <th>total_bill</th>\n",
       "      <th>tip</th>\n",
       "      <th>sex</th>\n",
       "      <th>smoker</th>\n",
       "      <th>day</th>\n",
       "      <th>time</th>\n",
       "      <th>size</th>\n",
       "    </tr>\n",
       "  </thead>\n",
       "  <tbody>\n",
       "    <tr>\n",
       "      <th>count</th>\n",
       "      <td>244.000000</td>\n",
       "      <td>244.000000</td>\n",
       "      <td>244</td>\n",
       "      <td>244</td>\n",
       "      <td>244</td>\n",
       "      <td>244</td>\n",
       "      <td>244.000000</td>\n",
       "    </tr>\n",
       "    <tr>\n",
       "      <th>unique</th>\n",
       "      <td>NaN</td>\n",
       "      <td>NaN</td>\n",
       "      <td>2</td>\n",
       "      <td>2</td>\n",
       "      <td>4</td>\n",
       "      <td>2</td>\n",
       "      <td>NaN</td>\n",
       "    </tr>\n",
       "    <tr>\n",
       "      <th>top</th>\n",
       "      <td>NaN</td>\n",
       "      <td>NaN</td>\n",
       "      <td>Male</td>\n",
       "      <td>No</td>\n",
       "      <td>Sat</td>\n",
       "      <td>Dinner</td>\n",
       "      <td>NaN</td>\n",
       "    </tr>\n",
       "    <tr>\n",
       "      <th>freq</th>\n",
       "      <td>NaN</td>\n",
       "      <td>NaN</td>\n",
       "      <td>157</td>\n",
       "      <td>151</td>\n",
       "      <td>87</td>\n",
       "      <td>176</td>\n",
       "      <td>NaN</td>\n",
       "    </tr>\n",
       "    <tr>\n",
       "      <th>mean</th>\n",
       "      <td>19.785943</td>\n",
       "      <td>2.998279</td>\n",
       "      <td>NaN</td>\n",
       "      <td>NaN</td>\n",
       "      <td>NaN</td>\n",
       "      <td>NaN</td>\n",
       "      <td>2.569672</td>\n",
       "    </tr>\n",
       "    <tr>\n",
       "      <th>std</th>\n",
       "      <td>8.902412</td>\n",
       "      <td>1.383638</td>\n",
       "      <td>NaN</td>\n",
       "      <td>NaN</td>\n",
       "      <td>NaN</td>\n",
       "      <td>NaN</td>\n",
       "      <td>0.951100</td>\n",
       "    </tr>\n",
       "    <tr>\n",
       "      <th>min</th>\n",
       "      <td>3.070000</td>\n",
       "      <td>1.000000</td>\n",
       "      <td>NaN</td>\n",
       "      <td>NaN</td>\n",
       "      <td>NaN</td>\n",
       "      <td>NaN</td>\n",
       "      <td>1.000000</td>\n",
       "    </tr>\n",
       "    <tr>\n",
       "      <th>25%</th>\n",
       "      <td>13.347500</td>\n",
       "      <td>2.000000</td>\n",
       "      <td>NaN</td>\n",
       "      <td>NaN</td>\n",
       "      <td>NaN</td>\n",
       "      <td>NaN</td>\n",
       "      <td>2.000000</td>\n",
       "    </tr>\n",
       "    <tr>\n",
       "      <th>50%</th>\n",
       "      <td>17.795000</td>\n",
       "      <td>2.900000</td>\n",
       "      <td>NaN</td>\n",
       "      <td>NaN</td>\n",
       "      <td>NaN</td>\n",
       "      <td>NaN</td>\n",
       "      <td>2.000000</td>\n",
       "    </tr>\n",
       "    <tr>\n",
       "      <th>75%</th>\n",
       "      <td>24.127500</td>\n",
       "      <td>3.562500</td>\n",
       "      <td>NaN</td>\n",
       "      <td>NaN</td>\n",
       "      <td>NaN</td>\n",
       "      <td>NaN</td>\n",
       "      <td>3.000000</td>\n",
       "    </tr>\n",
       "    <tr>\n",
       "      <th>max</th>\n",
       "      <td>50.810000</td>\n",
       "      <td>10.000000</td>\n",
       "      <td>NaN</td>\n",
       "      <td>NaN</td>\n",
       "      <td>NaN</td>\n",
       "      <td>NaN</td>\n",
       "      <td>6.000000</td>\n",
       "    </tr>\n",
       "  </tbody>\n",
       "</table>\n",
       "</div>"
      ]
     },
     "execution_count": 22,
     "metadata": {},
     "output_type": "execute_result"
    }
   ],
   "execution_count": 22
  },
  {
   "cell_type": "markdown",
   "metadata": {
    "id": "YM1r9pHqtJlO"
   },
   "source": [
    "### Selecionando Dados\n",
    "\n",
    "Seleções dos dados são bastante importantes. Você nem sempre estará interessado em exibir ou analisar todos os dados. Por exemplo, você pode ter dados de produção de várias unidades de uma fábrica, mas estar interessado somente em dados das unidades de São Paulo (seleção de linhas ou casos). Ou, você pode ter dados de vendas com diversas informações dos produtos (cor, modelo etc.) e dos clientes (nome, CPF etc.) e quer apenas dados de peso e dimensões do produto, da origem e destino da compra, para analisar os preços de frete (seleção de colunas ou atributos). E mais frequentemente ainda você vai realizar as duas seleções criando *slices* (fatias) dos dados com as informações de interesse.\n",
    "\n"
   ]
  },
  {
   "cell_type": "markdown",
   "metadata": {
    "id": "CxQVxpOS93Bx"
   },
   "source": [
    "### Seleção de Colunas, Seleção de Linhas e de Linhas e Colunas\n",
    "\n",
    "<img src=\"https://pandas.pydata.org/docs/_images/03_subset_columns.svg\" width=320, align=\"center\">\n",
    "<img src=\"https://pandas.pydata.org/docs/_images/03_subset_rows.svg\" width=320, align=\"center\">\n",
    "<img src=\"https://pandas.pydata.org/docs/_images/03_subset_columns_rows.svg\" width=320, align=\"center\">\n",
    "\n"
   ]
  },
  {
   "cell_type": "markdown",
   "metadata": {
    "id": "qBPLru58u2XV"
   },
   "source": [
    "### Selecionando colunas de dados como `pd.Series`\n",
    "\n",
    "As colunas de um `DataFrame` são séries do `Pandas` e podemos selecionar e operar com cada uma das séries de um `DataFrame`. Existem dois modos de seleção\n",
    "\n",
    "```\n",
    "df.<nome do atributo>\n",
    "\n",
    "df['<nome do atributo>']\n",
    "```\n",
    "\n",
    "elas retornam o mesmo resultado e a segunda forma é sempre necessária quando temos nomes de atributos com espaços ou caracteres especiais.\n"
   ]
  },
  {
   "cell_type": "code",
   "metadata": {
    "colab": {
     "base_uri": "https://localhost:8080/"
    },
    "id": "hZI7X1P2vFUW",
    "outputId": "61db96ea-2860-49d4-958c-9d7a45546c9b",
    "ExecuteTime": {
     "end_time": "2024-08-21T22:23:09.044983Z",
     "start_time": "2024-08-21T22:23:09.039212Z"
    }
   },
   "source": [
    "print(tips.tip)\n",
    "# ou\n",
    "# print(tips['tip'])"
   ],
   "outputs": [
    {
     "name": "stdout",
     "output_type": "stream",
     "text": [
      "0      1.01\n",
      "1      1.66\n",
      "2      3.50\n",
      "3      3.31\n",
      "4      3.61\n",
      "       ... \n",
      "239    5.92\n",
      "240    2.00\n",
      "241    2.00\n",
      "242    1.75\n",
      "243    3.00\n",
      "Name: tip, Length: 244, dtype: float64\n"
     ]
    }
   ],
   "execution_count": 23
  },
  {
   "cell_type": "markdown",
   "metadata": {
    "id": "xwz8XkxrvciO"
   },
   "source": [
    "Esse conjunto de dados é um `pd.Series` e podemos fazer uma série de operações sobre essa coleção de dados, como calcular a soma ou a média de valores, como em um array `NumPy`."
   ]
  },
  {
   "cell_type": "code",
   "metadata": {
    "colab": {
     "base_uri": "https://localhost:8080/"
    },
    "id": "uXuI7u6tvb20",
    "outputId": "b2e12e7e-1033-4977-9613-64ce7ea3e7c2",
    "ExecuteTime": {
     "end_time": "2024-08-21T22:23:09.052840Z",
     "start_time": "2024-08-21T22:23:09.046188Z"
    }
   },
   "source": [
    "tip_series = tips['tip']\n",
    "print(f'Média das gorjetas: USD {tip_series.mean() :.2f} e Total das gorjetas: USD {tip_series.sum() :.2f}')"
   ],
   "outputs": [
    {
     "name": "stdout",
     "output_type": "stream",
     "text": [
      "Média das gorjetas: USD 3.00 e Total das gorjetas: USD 731.58\n"
     ]
    }
   ],
   "execution_count": 24
  },
  {
   "cell_type": "markdown",
   "metadata": {
    "id": "nIXO54pUwKpL"
   },
   "source": [
    "Pode ser útil também você transformar uma `pd.Series` em uma lista `Python` para que você possa realizar operações de listas que você já conhece."
   ]
  },
  {
   "cell_type": "code",
   "metadata": {
    "colab": {
     "base_uri": "https://localhost:8080/"
    },
    "id": "wjxckq-twJni",
    "outputId": "bf154ada-fd1b-42f6-eb9f-bce4132c0b41",
    "ExecuteTime": {
     "end_time": "2024-08-21T22:23:09.060390Z",
     "start_time": "2024-08-21T22:23:09.052840Z"
    }
   },
   "source": [
    "dias = tips.day\n",
    "dias = dias.to_list()\n",
    "dias.count('Sat')"
   ],
   "outputs": [
    {
     "data": {
      "text/plain": [
       "87"
      ]
     },
     "execution_count": 25,
     "metadata": {},
     "output_type": "execute_result"
    }
   ],
   "execution_count": 25
  },
  {
   "cell_type": "markdown",
   "metadata": {
    "id": "GG_zHqt4lbUt"
   },
   "source": [
    "### Selecionando uma ou Mais Colunas como `pd.DataFrame`\n",
    "\n",
    "<img src=\"https://pandas.pydata.org/docs/_images/03_subset_columns.svg\" width=320, align=\"center\">\n",
    "\n",
    "Você pode estar também interessado na seleção de *mais que uma coluna* de dados. Para isso você pode simplesmente informar para o `Pandas` uma **lista de atributos** a serem selecionados.\n",
    "\n",
    "```\n",
    "\n",
    "df [ [ <lista-de-colunas> ] ]\n",
    "\n",
    "```\n",
    "\n",
    "Diferente da seleção anterior que retorna um Série do `Pandas`, a seleção neste formato, com uma ou mais colunas informadas em uma lista, retornará sempre um `DataFrame`, mesmo que você informe uma única coluna.\n",
    "\n"
   ]
  },
  {
   "cell_type": "markdown",
   "metadata": {
    "id": "4KgEBH0_4p04"
   },
   "source": [
    "A seleção como `DataFrame` permite a seleção de várias séries de dados (atributos) para construírmos subconjuntos dos dados. Essas seleções de dados retornam `DataFrames` e todas as operações sobre `DataFrames` são aplicáveis sobre essas seleções."
   ]
  },
  {
   "cell_type": "code",
   "metadata": {
    "colab": {
     "base_uri": "https://localhost:8080/"
    },
    "id": "ZQPgXL075TlJ",
    "outputId": "8998ab6f-cb00-4e3b-a852-221b0068c1c0",
    "ExecuteTime": {
     "end_time": "2024-08-21T22:23:09.068647Z",
     "start_time": "2024-08-21T22:23:09.060390Z"
    }
   },
   "source": [
    "tips.columns"
   ],
   "outputs": [
    {
     "data": {
      "text/plain": [
       "Index(['total_bill', 'tip', 'sex', 'smoker', 'day', 'time', 'size'], dtype='object')"
      ]
     },
     "execution_count": 26,
     "metadata": {},
     "output_type": "execute_result"
    }
   ],
   "execution_count": 26
  },
  {
   "cell_type": "code",
   "metadata": {
    "colab": {
     "base_uri": "https://localhost:8080/",
     "height": 204
    },
    "id": "oaASGjGn4nzn",
    "outputId": "4bd81ba2-c6cf-4ca8-ffbf-2ada46749f91",
    "ExecuteTime": {
     "end_time": "2024-08-21T22:23:09.085745Z",
     "start_time": "2024-08-21T22:23:09.068647Z"
    }
   },
   "source": [
    "selected_tips = tips[['total_bill', 'tip', 'size']]\n",
    "\n",
    "selected_tips.head() # um novo dataframe com atributos selecionados"
   ],
   "outputs": [
    {
     "data": {
      "text/plain": [
       "   total_bill   tip  size\n",
       "0       16.99  1.01     2\n",
       "1       10.34  1.66     3\n",
       "2       21.01  3.50     3\n",
       "3       23.68  3.31     2\n",
       "4       24.59  3.61     4"
      ],
      "text/html": [
       "<div>\n",
       "<style scoped>\n",
       "    .dataframe tbody tr th:only-of-type {\n",
       "        vertical-align: middle;\n",
       "    }\n",
       "\n",
       "    .dataframe tbody tr th {\n",
       "        vertical-align: top;\n",
       "    }\n",
       "\n",
       "    .dataframe thead th {\n",
       "        text-align: right;\n",
       "    }\n",
       "</style>\n",
       "<table border=\"1\" class=\"dataframe\">\n",
       "  <thead>\n",
       "    <tr style=\"text-align: right;\">\n",
       "      <th></th>\n",
       "      <th>total_bill</th>\n",
       "      <th>tip</th>\n",
       "      <th>size</th>\n",
       "    </tr>\n",
       "  </thead>\n",
       "  <tbody>\n",
       "    <tr>\n",
       "      <th>0</th>\n",
       "      <td>16.99</td>\n",
       "      <td>1.01</td>\n",
       "      <td>2</td>\n",
       "    </tr>\n",
       "    <tr>\n",
       "      <th>1</th>\n",
       "      <td>10.34</td>\n",
       "      <td>1.66</td>\n",
       "      <td>3</td>\n",
       "    </tr>\n",
       "    <tr>\n",
       "      <th>2</th>\n",
       "      <td>21.01</td>\n",
       "      <td>3.50</td>\n",
       "      <td>3</td>\n",
       "    </tr>\n",
       "    <tr>\n",
       "      <th>3</th>\n",
       "      <td>23.68</td>\n",
       "      <td>3.31</td>\n",
       "      <td>2</td>\n",
       "    </tr>\n",
       "    <tr>\n",
       "      <th>4</th>\n",
       "      <td>24.59</td>\n",
       "      <td>3.61</td>\n",
       "      <td>4</td>\n",
       "    </tr>\n",
       "  </tbody>\n",
       "</table>\n",
       "</div>"
      ]
     },
     "execution_count": 27,
     "metadata": {},
     "output_type": "execute_result"
    }
   ],
   "execution_count": 27
  },
  {
   "cell_type": "markdown",
   "metadata": {
    "id": "BRsdhyMP5zdj"
   },
   "source": [
    "$\\rightarrow$ *A seleção com uma ou mais colunas informadas em uma lista, retorna um `DataFrame`. Note que `df['tip']` retorna um `pd.Series`, enquanto, selecionar `df[['tip']]` retorna um `pd.DataFrame` de uma única coluna.*\n",
    "\n"
   ]
  },
  {
   "cell_type": "markdown",
   "metadata": {
    "id": "7lmI5A7U50Yx"
   },
   "source": [
    "De modo geral, você pode empreguar a seleção de `pd.Series` se quiser selecionar um único atributo, e empregar a seleção `pd.DataFrame` quando estiver interessado na criação de subconjuntos de dados."
   ]
  },
  {
   "cell_type": "markdown",
   "metadata": {
    "id": "qEzJ1rKO6q0g"
   },
   "source": [
    "### Selecionando Maiores e Menores\n",
    "\n",
    "Veremos mais adiante como fazer seleção de linhas, mas aqui já é oportuno vermos como selecionar linhas que contenham os maiores e os menores valores da coleção."
   ]
  },
  {
   "cell_type": "code",
   "metadata": {
    "colab": {
     "base_uri": "https://localhost:8080/",
     "height": 204
    },
    "id": "Hh0b1ooz6qIS",
    "outputId": "3921fe4c-fd60-43d1-bf05-3c847b30d98a",
    "ExecuteTime": {
     "end_time": "2024-08-21T22:23:09.107575Z",
     "start_time": "2024-08-21T22:23:09.088560Z"
    }
   },
   "source": [
    "tips.nsmallest(5,'total_bill')"
   ],
   "outputs": [
    {
     "data": {
      "text/plain": [
       "     total_bill   tip     sex smoker   day    time  size\n",
       "67         3.07  1.00  Female    Yes   Sat  Dinner     1\n",
       "92         5.75  1.00  Female    Yes   Fri  Dinner     2\n",
       "111        7.25  1.00  Female     No   Sat  Dinner     1\n",
       "172        7.25  5.15    Male    Yes   Sun  Dinner     2\n",
       "149        7.51  2.00    Male     No  Thur   Lunch     2"
      ],
      "text/html": [
       "<div>\n",
       "<style scoped>\n",
       "    .dataframe tbody tr th:only-of-type {\n",
       "        vertical-align: middle;\n",
       "    }\n",
       "\n",
       "    .dataframe tbody tr th {\n",
       "        vertical-align: top;\n",
       "    }\n",
       "\n",
       "    .dataframe thead th {\n",
       "        text-align: right;\n",
       "    }\n",
       "</style>\n",
       "<table border=\"1\" class=\"dataframe\">\n",
       "  <thead>\n",
       "    <tr style=\"text-align: right;\">\n",
       "      <th></th>\n",
       "      <th>total_bill</th>\n",
       "      <th>tip</th>\n",
       "      <th>sex</th>\n",
       "      <th>smoker</th>\n",
       "      <th>day</th>\n",
       "      <th>time</th>\n",
       "      <th>size</th>\n",
       "    </tr>\n",
       "  </thead>\n",
       "  <tbody>\n",
       "    <tr>\n",
       "      <th>67</th>\n",
       "      <td>3.07</td>\n",
       "      <td>1.00</td>\n",
       "      <td>Female</td>\n",
       "      <td>Yes</td>\n",
       "      <td>Sat</td>\n",
       "      <td>Dinner</td>\n",
       "      <td>1</td>\n",
       "    </tr>\n",
       "    <tr>\n",
       "      <th>92</th>\n",
       "      <td>5.75</td>\n",
       "      <td>1.00</td>\n",
       "      <td>Female</td>\n",
       "      <td>Yes</td>\n",
       "      <td>Fri</td>\n",
       "      <td>Dinner</td>\n",
       "      <td>2</td>\n",
       "    </tr>\n",
       "    <tr>\n",
       "      <th>111</th>\n",
       "      <td>7.25</td>\n",
       "      <td>1.00</td>\n",
       "      <td>Female</td>\n",
       "      <td>No</td>\n",
       "      <td>Sat</td>\n",
       "      <td>Dinner</td>\n",
       "      <td>1</td>\n",
       "    </tr>\n",
       "    <tr>\n",
       "      <th>172</th>\n",
       "      <td>7.25</td>\n",
       "      <td>5.15</td>\n",
       "      <td>Male</td>\n",
       "      <td>Yes</td>\n",
       "      <td>Sun</td>\n",
       "      <td>Dinner</td>\n",
       "      <td>2</td>\n",
       "    </tr>\n",
       "    <tr>\n",
       "      <th>149</th>\n",
       "      <td>7.51</td>\n",
       "      <td>2.00</td>\n",
       "      <td>Male</td>\n",
       "      <td>No</td>\n",
       "      <td>Thur</td>\n",
       "      <td>Lunch</td>\n",
       "      <td>2</td>\n",
       "    </tr>\n",
       "  </tbody>\n",
       "</table>\n",
       "</div>"
      ]
     },
     "execution_count": 28,
     "metadata": {},
     "output_type": "execute_result"
    }
   ],
   "execution_count": 28
  },
  {
   "cell_type": "code",
   "metadata": {
    "colab": {
     "base_uri": "https://localhost:8080/",
     "height": 142
    },
    "id": "hh4zE0Vl7E-E",
    "outputId": "e6d63268-e448-449d-c3d0-2dc56fbe20ad",
    "ExecuteTime": {
     "end_time": "2024-08-21T22:23:09.126961Z",
     "start_time": "2024-08-21T22:23:09.110656Z"
    }
   },
   "source": [
    "tips_top3 = tips.nlargest(3,'total_bill')\n",
    "tips_top3"
   ],
   "outputs": [
    {
     "data": {
      "text/plain": [
       "     total_bill    tip   sex smoker  day    time  size\n",
       "170       50.81  10.00  Male    Yes  Sat  Dinner     3\n",
       "212       48.33   9.00  Male     No  Sat  Dinner     4\n",
       "59        48.27   6.73  Male     No  Sat  Dinner     4"
      ],
      "text/html": [
       "<div>\n",
       "<style scoped>\n",
       "    .dataframe tbody tr th:only-of-type {\n",
       "        vertical-align: middle;\n",
       "    }\n",
       "\n",
       "    .dataframe tbody tr th {\n",
       "        vertical-align: top;\n",
       "    }\n",
       "\n",
       "    .dataframe thead th {\n",
       "        text-align: right;\n",
       "    }\n",
       "</style>\n",
       "<table border=\"1\" class=\"dataframe\">\n",
       "  <thead>\n",
       "    <tr style=\"text-align: right;\">\n",
       "      <th></th>\n",
       "      <th>total_bill</th>\n",
       "      <th>tip</th>\n",
       "      <th>sex</th>\n",
       "      <th>smoker</th>\n",
       "      <th>day</th>\n",
       "      <th>time</th>\n",
       "      <th>size</th>\n",
       "    </tr>\n",
       "  </thead>\n",
       "  <tbody>\n",
       "    <tr>\n",
       "      <th>170</th>\n",
       "      <td>50.81</td>\n",
       "      <td>10.00</td>\n",
       "      <td>Male</td>\n",
       "      <td>Yes</td>\n",
       "      <td>Sat</td>\n",
       "      <td>Dinner</td>\n",
       "      <td>3</td>\n",
       "    </tr>\n",
       "    <tr>\n",
       "      <th>212</th>\n",
       "      <td>48.33</td>\n",
       "      <td>9.00</td>\n",
       "      <td>Male</td>\n",
       "      <td>No</td>\n",
       "      <td>Sat</td>\n",
       "      <td>Dinner</td>\n",
       "      <td>4</td>\n",
       "    </tr>\n",
       "    <tr>\n",
       "      <th>59</th>\n",
       "      <td>48.27</td>\n",
       "      <td>6.73</td>\n",
       "      <td>Male</td>\n",
       "      <td>No</td>\n",
       "      <td>Sat</td>\n",
       "      <td>Dinner</td>\n",
       "      <td>4</td>\n",
       "    </tr>\n",
       "  </tbody>\n",
       "</table>\n",
       "</div>"
      ]
     },
     "execution_count": 29,
     "metadata": {},
     "output_type": "execute_result"
    }
   ],
   "execution_count": 29
  },
  {
   "cell_type": "markdown",
   "metadata": {
    "id": "o393yrTc79_W"
   },
   "source": [
    "### Alterando e Incluindo Colunas de Dados\n",
    "\n",
    "Muitas vezes é necessário você criar atributos derivados a partir dos dados originais, como converter valores para R\\$ , criar um atributo com o valor das contas descontando a gorjeta ou o valor da conta dividido pelos participantes da mesa. A exemplo do `NumPy`, essa é uma grande facilidade do `Pandas` que, sendo orientado a colunas,  permite realizar operações sobre uma coluna de dados (ou mesmo toda a coleção) sem a necessidade de iterações ou laços de programa."
   ]
  },
  {
   "cell_type": "code",
   "metadata": {
    "colab": {
     "base_uri": "https://localhost:8080/",
     "height": 204
    },
    "id": "FCX6WInh9E23",
    "outputId": "28806783-3759-4fbd-9202-5aaf43981a5a",
    "ExecuteTime": {
     "end_time": "2024-08-21T22:23:09.153414Z",
     "start_time": "2024-08-21T22:23:09.129094Z"
    }
   },
   "source": [
    "dolar_real_rate = 5.8\n",
    "tips['total_bill'] = tips['total_bill'] * dolar_real_rate         # alterando\n",
    "tips['tip'] = tips['tip'] * dolar_real_rate                       # alterando\n",
    "\n",
    "tips['total_bill_minus_tips'] = tips['total_bill'] - tips['tip']    # incluindo um novo atributo\n",
    "tips['bill_by_head'] = tips['total_bill'] / tips['size']            # incluindo um novo atributo\n",
    "tips.head()"
   ],
   "outputs": [
    {
     "data": {
      "text/plain": [
       "   total_bill     tip     sex smoker  day    time  size  \\\n",
       "0      98.542   5.858  Female     No  Sun  Dinner     2   \n",
       "1      59.972   9.628    Male     No  Sun  Dinner     3   \n",
       "2     121.858  20.300    Male     No  Sun  Dinner     3   \n",
       "3     137.344  19.198    Male     No  Sun  Dinner     2   \n",
       "4     142.622  20.938  Female     No  Sun  Dinner     4   \n",
       "\n",
       "   total_bill_minus_tips  bill_by_head  \n",
       "0                 92.684     49.271000  \n",
       "1                 50.344     19.990667  \n",
       "2                101.558     40.619333  \n",
       "3                118.146     68.672000  \n",
       "4                121.684     35.655500  "
      ],
      "text/html": [
       "<div>\n",
       "<style scoped>\n",
       "    .dataframe tbody tr th:only-of-type {\n",
       "        vertical-align: middle;\n",
       "    }\n",
       "\n",
       "    .dataframe tbody tr th {\n",
       "        vertical-align: top;\n",
       "    }\n",
       "\n",
       "    .dataframe thead th {\n",
       "        text-align: right;\n",
       "    }\n",
       "</style>\n",
       "<table border=\"1\" class=\"dataframe\">\n",
       "  <thead>\n",
       "    <tr style=\"text-align: right;\">\n",
       "      <th></th>\n",
       "      <th>total_bill</th>\n",
       "      <th>tip</th>\n",
       "      <th>sex</th>\n",
       "      <th>smoker</th>\n",
       "      <th>day</th>\n",
       "      <th>time</th>\n",
       "      <th>size</th>\n",
       "      <th>total_bill_minus_tips</th>\n",
       "      <th>bill_by_head</th>\n",
       "    </tr>\n",
       "  </thead>\n",
       "  <tbody>\n",
       "    <tr>\n",
       "      <th>0</th>\n",
       "      <td>98.542</td>\n",
       "      <td>5.858</td>\n",
       "      <td>Female</td>\n",
       "      <td>No</td>\n",
       "      <td>Sun</td>\n",
       "      <td>Dinner</td>\n",
       "      <td>2</td>\n",
       "      <td>92.684</td>\n",
       "      <td>49.271000</td>\n",
       "    </tr>\n",
       "    <tr>\n",
       "      <th>1</th>\n",
       "      <td>59.972</td>\n",
       "      <td>9.628</td>\n",
       "      <td>Male</td>\n",
       "      <td>No</td>\n",
       "      <td>Sun</td>\n",
       "      <td>Dinner</td>\n",
       "      <td>3</td>\n",
       "      <td>50.344</td>\n",
       "      <td>19.990667</td>\n",
       "    </tr>\n",
       "    <tr>\n",
       "      <th>2</th>\n",
       "      <td>121.858</td>\n",
       "      <td>20.300</td>\n",
       "      <td>Male</td>\n",
       "      <td>No</td>\n",
       "      <td>Sun</td>\n",
       "      <td>Dinner</td>\n",
       "      <td>3</td>\n",
       "      <td>101.558</td>\n",
       "      <td>40.619333</td>\n",
       "    </tr>\n",
       "    <tr>\n",
       "      <th>3</th>\n",
       "      <td>137.344</td>\n",
       "      <td>19.198</td>\n",
       "      <td>Male</td>\n",
       "      <td>No</td>\n",
       "      <td>Sun</td>\n",
       "      <td>Dinner</td>\n",
       "      <td>2</td>\n",
       "      <td>118.146</td>\n",
       "      <td>68.672000</td>\n",
       "    </tr>\n",
       "    <tr>\n",
       "      <th>4</th>\n",
       "      <td>142.622</td>\n",
       "      <td>20.938</td>\n",
       "      <td>Female</td>\n",
       "      <td>No</td>\n",
       "      <td>Sun</td>\n",
       "      <td>Dinner</td>\n",
       "      <td>4</td>\n",
       "      <td>121.684</td>\n",
       "      <td>35.655500</td>\n",
       "    </tr>\n",
       "  </tbody>\n",
       "</table>\n",
       "</div>"
      ]
     },
     "execution_count": 30,
     "metadata": {},
     "output_type": "execute_result"
    }
   ],
   "execution_count": 30
  },
  {
   "cell_type": "markdown",
   "metadata": {
    "id": "tdhcbRo5ntzV"
   },
   "source": [
    "### Selecionar Linhas\n",
    "\n",
    "<img src=\"https://pandas.pydata.org/docs/_images/03_subset_rows.svg\" width=320, align=\"center\">\n",
    "\n",
    "A seleção de linhas é mais interessante por que podemos especificar condições para os valores que buscamos. Por exemplo, você pode selecionar o tipo de peças que deseja ver em um `DataFrame` com dados de vários componentes, ou selecionar as unidades de fábrica de uma certa cidade que você deseja verificar a produção.\n",
    "\n",
    "A seleção é um predicado lógico,  \n",
    "\n",
    "```\n",
    "df [ <critério de seleção> ]\n",
    "```\n",
    "\n",
    "Exemplos\n",
    "\n",
    "```\n",
    "df [ nome_coluna == valor ]\n",
    "df [ nome_coluna != valor ]\n",
    "df [ nome_coluna > valor ]\n",
    "```"
   ]
  },
  {
   "cell_type": "markdown",
   "metadata": {
    "id": "MDLzlemMIOcB"
   },
   "source": [
    "Podemos, assim, selecionar os dados somente de não fumantes ou fumantes:"
   ]
  },
  {
   "cell_type": "code",
   "metadata": {
    "id": "eaOZRmZWns9a",
    "ExecuteTime": {
     "end_time": "2024-08-21T22:23:09.165794Z",
     "start_time": "2024-08-21T22:23:09.153414Z"
    }
   },
   "source": [
    "tips_nao_fumantes = tips[ tips.smoker == 'No' ]\n",
    "tips_fumantes = tips[ tips.smoker == 'Yes' ]"
   ],
   "outputs": [],
   "execution_count": 31
  },
  {
   "cell_type": "markdown",
   "metadata": {
    "id": "AWXIM91FrMkH"
   },
   "source": [
    "### Seleção de Linhas e Colunas\n",
    "\n",
    "<img src=\"https://pandas.pydata.org/docs/_images/03_subset_columns_rows.svg\" width=320, align=\"center\">\n",
    "\n",
    "O uso mais geral das seleções é o de seleções conjuntas de linhas e colunas de dados, e nos referimos a esse subconjunto dos dados de *slice* (fatia) dos dados.\n",
    "\n",
    "Seguindo uma boa prática sempre faremos primeiro a seleção das linhas,\n",
    "\n",
    "```\n",
    "df [ <critério de seleção> ] ...\n",
    "\n",
    "...Selecionando uma coluna\n",
    "df [ <critério de seleção> ].nome_coluna                  pd.Series\n",
    "df [ <critério de seleção> ]['nome_coluna']\n",
    "\n",
    "...Selecionando uma ou mais colunas\n",
    "df [ <critério de seleção> ][ [<lista-de-colunas>] ]      pd.DataFrame\n",
    "\n",
    "```\n"
   ]
  },
  {
   "cell_type": "markdown",
   "metadata": {
    "id": "b-yTIEivJv-K"
   },
   "source": [
    "Com isso podemos fazer inúmeras seleções de dados que temos interesse em visualizar ou analisar, e responder a muitas perguntas sobre os dados."
   ]
  },
  {
   "cell_type": "markdown",
   "metadata": {
    "id": "RuHSo-GdIbHJ"
   },
   "source": [
    "- **Qual a proporção de Clientes Fumantes?**"
   ]
  },
  {
   "cell_type": "code",
   "metadata": {
    "colab": {
     "base_uri": "https://localhost:8080/"
    },
    "id": "EukjeLxs_jL4",
    "outputId": "03875f0c-a5d3-41ba-947d-08944d497c71",
    "ExecuteTime": {
     "end_time": "2024-08-21T22:23:09.177020Z",
     "start_time": "2024-08-21T22:23:09.168935Z"
    }
   },
   "source": [
    "print(f'Percentual de Clientes Fumantes {len( tips_fumantes ) / len( tips ) :.2f} %')"
   ],
   "outputs": [
    {
     "name": "stdout",
     "output_type": "stream",
     "text": [
      "Percentual de Clientes Fumantes 0.38 %\n"
     ]
    }
   ],
   "execution_count": 32
  },
  {
   "cell_type": "markdown",
   "metadata": {
    "id": "K0zJ7f0gsDHb"
   },
   "source": [
    "- **Fumantes ou Mulheres, pagam mais gorjeta (em média) ?**"
   ]
  },
  {
   "cell_type": "code",
   "metadata": {
    "colab": {
     "base_uri": "https://localhost:8080/"
    },
    "id": "pihtXjD1r9Qn",
    "outputId": "bc55096d-c0c4-4a17-a282-a63714d13312",
    "ExecuteTime": {
     "end_time": "2024-08-21T22:23:09.191210Z",
     "start_time": "2024-08-21T22:23:09.179849Z"
    }
   },
   "source": [
    "tips[ tips.smoker == 'Yes' ]['tip'].mean() > tips[ tips.smoker == 'No' ]['tip'].mean()"
   ],
   "outputs": [
    {
     "data": {
      "text/plain": [
       "True"
      ]
     },
     "execution_count": 33,
     "metadata": {},
     "output_type": "execute_result"
    }
   ],
   "execution_count": 33
  },
  {
   "cell_type": "code",
   "metadata": {
    "colab": {
     "base_uri": "https://localhost:8080/"
    },
    "id": "P25kOuvjAR07",
    "outputId": "67e4a9f3-2255-4ef0-f1b3-a3ec1f9d1b1e",
    "ExecuteTime": {
     "end_time": "2024-08-21T22:23:09.205633Z",
     "start_time": "2024-08-21T22:23:09.194566Z"
    }
   },
   "source": [
    "tips[ tips.sex == 'Female' ]['tip'].mean() > tips[ tips.sex == 'Male' ]['tip'].mean()"
   ],
   "outputs": [
    {
     "data": {
      "text/plain": [
       "False"
      ]
     },
     "execution_count": 34,
     "metadata": {},
     "output_type": "execute_result"
    }
   ],
   "execution_count": 34
  },
  {
   "cell_type": "markdown",
   "metadata": {
    "id": "hsUjNahCA0W9"
   },
   "source": [
    "As selecões e criação desses subconjuntos de dados, como você poderá ver, têm um papel muito importante na construção de visualizações e entendimento dos dados pois, em muitos casos, recorremos a esses subconjuntos para produzir as visualizações, como no exemplo abaixo, em que observamos os valores das gorjetas de homens e mulheres."
   ]
  },
  {
   "cell_type": "code",
   "metadata": {
    "colab": {
     "base_uri": "https://localhost:8080/",
     "height": 296
    },
    "id": "9l_-Ig1HA8ji",
    "outputId": "d5fa0508-0f78-463a-eafb-f21820189eb1",
    "ExecuteTime": {
     "end_time": "2024-08-21T22:47:06.553769Z",
     "start_time": "2024-08-21T22:47:04.481732Z"
    }
   },
   "source": [
    "import matplotlib.pyplot as plt\n",
    "plt.hist(tips[ tips.sex == 'Male' ]['tip'], label='Homens')\n",
    "plt.hist(tips[ tips.sex == 'Female' ]['tip'], label='Mulheres')\n",
    "\n",
    "plt.xlabel('Valor das Gorjetas')\n",
    "plt.ylabel('Quantidades Pagas')\n",
    "plt.title('Distribuição das Gorjetas', fontsize=14, weight='bold')\n",
    "plt.legend(title='$\\\\bf{Gorjetas}$')\n",
    "plt.show()"
   ],
   "outputs": [
    {
     "ename": "ImportError",
     "evalue": "DLL load failed while importing _multiarray_umath: Não foi possível encontrar o módulo especificado.",
     "output_type": "error",
     "traceback": [
      "\u001B[1;31m---------------------------------------------------------------------------\u001B[0m",
      "\u001B[1;31mImportError\u001B[0m                               Traceback (most recent call last)",
      "\u001B[1;31mImportError\u001B[0m: DLL load failed while importing _multiarray_umath: Não foi possível encontrar o módulo especificado."
     ]
    },
    {
     "ename": "ImportError",
     "evalue": "initialization failed",
     "output_type": "error",
     "traceback": [
      "\u001B[1;31m---------------------------------------------------------------------------\u001B[0m",
      "\u001B[1;31mImportError\u001B[0m                               Traceback (most recent call last)",
      "\u001B[1;31mImportError\u001B[0m: numpy._core.multiarray failed to import",
      "\nThe above exception was the direct cause of the following exception:\n",
      "\u001B[1;31mImportError\u001B[0m                               Traceback (most recent call last)",
      "Cell \u001B[1;32mIn[38], line 1\u001B[0m\n\u001B[1;32m----> 1\u001B[0m \u001B[38;5;28;01mimport\u001B[39;00m \u001B[38;5;21;01mmatplotlib\u001B[39;00m\u001B[38;5;21;01m.\u001B[39;00m\u001B[38;5;21;01mpyplot\u001B[39;00m \u001B[38;5;28;01mas\u001B[39;00m \u001B[38;5;21;01mplt\u001B[39;00m\n\u001B[0;32m      2\u001B[0m plt\u001B[38;5;241m.\u001B[39mhist(tips[ tips\u001B[38;5;241m.\u001B[39msex \u001B[38;5;241m==\u001B[39m \u001B[38;5;124m'\u001B[39m\u001B[38;5;124mMale\u001B[39m\u001B[38;5;124m'\u001B[39m ][\u001B[38;5;124m'\u001B[39m\u001B[38;5;124mtip\u001B[39m\u001B[38;5;124m'\u001B[39m], label\u001B[38;5;241m=\u001B[39m\u001B[38;5;124m'\u001B[39m\u001B[38;5;124mHomens\u001B[39m\u001B[38;5;124m'\u001B[39m)\n\u001B[0;32m      3\u001B[0m plt\u001B[38;5;241m.\u001B[39mhist(tips[ tips\u001B[38;5;241m.\u001B[39msex \u001B[38;5;241m==\u001B[39m \u001B[38;5;124m'\u001B[39m\u001B[38;5;124mFemale\u001B[39m\u001B[38;5;124m'\u001B[39m ][\u001B[38;5;124m'\u001B[39m\u001B[38;5;124mtip\u001B[39m\u001B[38;5;124m'\u001B[39m], label\u001B[38;5;241m=\u001B[39m\u001B[38;5;124m'\u001B[39m\u001B[38;5;124mMulheres\u001B[39m\u001B[38;5;124m'\u001B[39m)\n",
      "File \u001B[1;32m~\\miniconda3\\Lib\\site-packages\\matplotlib\\__init__.py:161\u001B[0m\n\u001B[0;32m    159\u001B[0m \u001B[38;5;28;01mfrom\u001B[39;00m \u001B[38;5;21;01m.\u001B[39;00m \u001B[38;5;28;01mimport\u001B[39;00m _api, _version, cbook, _docstring, rcsetup\n\u001B[0;32m    160\u001B[0m \u001B[38;5;28;01mfrom\u001B[39;00m \u001B[38;5;21;01mmatplotlib\u001B[39;00m\u001B[38;5;21;01m.\u001B[39;00m\u001B[38;5;21;01mcbook\u001B[39;00m \u001B[38;5;28;01mimport\u001B[39;00m sanitize_sequence\n\u001B[1;32m--> 161\u001B[0m \u001B[38;5;28;01mfrom\u001B[39;00m \u001B[38;5;21;01mmatplotlib\u001B[39;00m\u001B[38;5;21;01m.\u001B[39;00m\u001B[38;5;21;01m_api\u001B[39;00m \u001B[38;5;28;01mimport\u001B[39;00m MatplotlibDeprecationWarning\n\u001B[0;32m    162\u001B[0m \u001B[38;5;28;01mfrom\u001B[39;00m \u001B[38;5;21;01mmatplotlib\u001B[39;00m\u001B[38;5;21;01m.\u001B[39;00m\u001B[38;5;21;01mrcsetup\u001B[39;00m \u001B[38;5;28;01mimport\u001B[39;00m cycler  \u001B[38;5;66;03m# noqa: F401\u001B[39;00m\n\u001B[0;32m    163\u001B[0m \u001B[38;5;28;01mfrom\u001B[39;00m \u001B[38;5;21;01mmatplotlib\u001B[39;00m\u001B[38;5;21;01m.\u001B[39;00m\u001B[38;5;21;01mrcsetup\u001B[39;00m \u001B[38;5;28;01mimport\u001B[39;00m validate_backend\n",
      "File \u001B[1;32m~\\miniconda3\\Lib\\site-packages\\matplotlib\\rcsetup.py:27\u001B[0m\n\u001B[0;32m     25\u001B[0m \u001B[38;5;28;01mfrom\u001B[39;00m \u001B[38;5;21;01mmatplotlib\u001B[39;00m \u001B[38;5;28;01mimport\u001B[39;00m _api, cbook\n\u001B[0;32m     26\u001B[0m \u001B[38;5;28;01mfrom\u001B[39;00m \u001B[38;5;21;01mmatplotlib\u001B[39;00m\u001B[38;5;21;01m.\u001B[39;00m\u001B[38;5;21;01mbackends\u001B[39;00m \u001B[38;5;28;01mimport\u001B[39;00m BackendFilter, backend_registry\n\u001B[1;32m---> 27\u001B[0m \u001B[38;5;28;01mfrom\u001B[39;00m \u001B[38;5;21;01mmatplotlib\u001B[39;00m\u001B[38;5;21;01m.\u001B[39;00m\u001B[38;5;21;01mcbook\u001B[39;00m \u001B[38;5;28;01mimport\u001B[39;00m ls_mapper\n\u001B[0;32m     28\u001B[0m \u001B[38;5;28;01mfrom\u001B[39;00m \u001B[38;5;21;01mmatplotlib\u001B[39;00m\u001B[38;5;21;01m.\u001B[39;00m\u001B[38;5;21;01mcolors\u001B[39;00m \u001B[38;5;28;01mimport\u001B[39;00m Colormap, is_color_like\n\u001B[0;32m     29\u001B[0m \u001B[38;5;28;01mfrom\u001B[39;00m \u001B[38;5;21;01mmatplotlib\u001B[39;00m\u001B[38;5;21;01m.\u001B[39;00m\u001B[38;5;21;01m_fontconfig_pattern\u001B[39;00m \u001B[38;5;28;01mimport\u001B[39;00m parse_fontconfig_pattern\n",
      "File \u001B[1;32m~\\miniconda3\\Lib\\site-packages\\matplotlib\\colors.py:57\u001B[0m\n\u001B[0;32m     55\u001B[0m \u001B[38;5;28;01mimport\u001B[39;00m \u001B[38;5;21;01mmatplotlib\u001B[39;00m \u001B[38;5;28;01mas\u001B[39;00m \u001B[38;5;21;01mmpl\u001B[39;00m\n\u001B[0;32m     56\u001B[0m \u001B[38;5;28;01mimport\u001B[39;00m \u001B[38;5;21;01mnumpy\u001B[39;00m \u001B[38;5;28;01mas\u001B[39;00m \u001B[38;5;21;01mnp\u001B[39;00m\n\u001B[1;32m---> 57\u001B[0m \u001B[38;5;28;01mfrom\u001B[39;00m \u001B[38;5;21;01mmatplotlib\u001B[39;00m \u001B[38;5;28;01mimport\u001B[39;00m _api, _cm, cbook, scale\n\u001B[0;32m     58\u001B[0m \u001B[38;5;28;01mfrom\u001B[39;00m \u001B[38;5;21;01m.\u001B[39;00m\u001B[38;5;21;01m_color_data\u001B[39;00m \u001B[38;5;28;01mimport\u001B[39;00m BASE_COLORS, TABLEAU_COLORS, CSS4_COLORS, XKCD_COLORS\n\u001B[0;32m     61\u001B[0m \u001B[38;5;28;01mclass\u001B[39;00m \u001B[38;5;21;01m_ColorMapping\u001B[39;00m(\u001B[38;5;28mdict\u001B[39m):\n",
      "File \u001B[1;32m~\\miniconda3\\Lib\\site-packages\\matplotlib\\scale.py:22\u001B[0m\n\u001B[0;32m     20\u001B[0m \u001B[38;5;28;01mimport\u001B[39;00m \u001B[38;5;21;01mmatplotlib\u001B[39;00m \u001B[38;5;28;01mas\u001B[39;00m \u001B[38;5;21;01mmpl\u001B[39;00m\n\u001B[0;32m     21\u001B[0m \u001B[38;5;28;01mfrom\u001B[39;00m \u001B[38;5;21;01mmatplotlib\u001B[39;00m \u001B[38;5;28;01mimport\u001B[39;00m _api, _docstring\n\u001B[1;32m---> 22\u001B[0m \u001B[38;5;28;01mfrom\u001B[39;00m \u001B[38;5;21;01mmatplotlib\u001B[39;00m\u001B[38;5;21;01m.\u001B[39;00m\u001B[38;5;21;01mticker\u001B[39;00m \u001B[38;5;28;01mimport\u001B[39;00m (\n\u001B[0;32m     23\u001B[0m     NullFormatter, ScalarFormatter, LogFormatterSciNotation, LogitFormatter,\n\u001B[0;32m     24\u001B[0m     NullLocator, LogLocator, AutoLocator, AutoMinorLocator,\n\u001B[0;32m     25\u001B[0m     SymmetricalLogLocator, AsinhLocator, LogitLocator)\n\u001B[0;32m     26\u001B[0m \u001B[38;5;28;01mfrom\u001B[39;00m \u001B[38;5;21;01mmatplotlib\u001B[39;00m\u001B[38;5;21;01m.\u001B[39;00m\u001B[38;5;21;01mtransforms\u001B[39;00m \u001B[38;5;28;01mimport\u001B[39;00m Transform, IdentityTransform\n\u001B[0;32m     29\u001B[0m \u001B[38;5;28;01mclass\u001B[39;00m \u001B[38;5;21;01mScaleBase\u001B[39;00m:\n",
      "File \u001B[1;32m~\\miniconda3\\Lib\\site-packages\\matplotlib\\ticker.py:143\u001B[0m\n\u001B[0;32m    140\u001B[0m \u001B[38;5;28;01mimport\u001B[39;00m \u001B[38;5;21;01mnumpy\u001B[39;00m \u001B[38;5;28;01mas\u001B[39;00m \u001B[38;5;21;01mnp\u001B[39;00m\n\u001B[0;32m    142\u001B[0m \u001B[38;5;28;01mimport\u001B[39;00m \u001B[38;5;21;01mmatplotlib\u001B[39;00m \u001B[38;5;28;01mas\u001B[39;00m \u001B[38;5;21;01mmpl\u001B[39;00m\n\u001B[1;32m--> 143\u001B[0m \u001B[38;5;28;01mfrom\u001B[39;00m \u001B[38;5;21;01mmatplotlib\u001B[39;00m \u001B[38;5;28;01mimport\u001B[39;00m _api, cbook\n\u001B[0;32m    144\u001B[0m \u001B[38;5;28;01mfrom\u001B[39;00m \u001B[38;5;21;01mmatplotlib\u001B[39;00m \u001B[38;5;28;01mimport\u001B[39;00m transforms \u001B[38;5;28;01mas\u001B[39;00m mtransforms\n\u001B[0;32m    146\u001B[0m _log \u001B[38;5;241m=\u001B[39m logging\u001B[38;5;241m.\u001B[39mgetLogger(\u001B[38;5;18m__name__\u001B[39m)\n",
      "File \u001B[1;32m~\\miniconda3\\Lib\\site-packages\\matplotlib\\transforms.py:49\u001B[0m\n\u001B[0;32m     46\u001B[0m \u001B[38;5;28;01mfrom\u001B[39;00m \u001B[38;5;21;01mnumpy\u001B[39;00m\u001B[38;5;21;01m.\u001B[39;00m\u001B[38;5;21;01mlinalg\u001B[39;00m \u001B[38;5;28;01mimport\u001B[39;00m inv\n\u001B[0;32m     48\u001B[0m \u001B[38;5;28;01mfrom\u001B[39;00m \u001B[38;5;21;01mmatplotlib\u001B[39;00m \u001B[38;5;28;01mimport\u001B[39;00m _api\n\u001B[1;32m---> 49\u001B[0m \u001B[38;5;28;01mfrom\u001B[39;00m \u001B[38;5;21;01mmatplotlib\u001B[39;00m\u001B[38;5;21;01m.\u001B[39;00m\u001B[38;5;21;01m_path\u001B[39;00m \u001B[38;5;28;01mimport\u001B[39;00m (\n\u001B[0;32m     50\u001B[0m     affine_transform, count_bboxes_overlapping_bbox, update_path_extents)\n\u001B[0;32m     51\u001B[0m \u001B[38;5;28;01mfrom\u001B[39;00m \u001B[38;5;21;01m.\u001B[39;00m\u001B[38;5;21;01mpath\u001B[39;00m \u001B[38;5;28;01mimport\u001B[39;00m Path\n\u001B[0;32m     53\u001B[0m DEBUG \u001B[38;5;241m=\u001B[39m \u001B[38;5;28;01mFalse\u001B[39;00m\n",
      "\u001B[1;31mImportError\u001B[0m: initialization failed"
     ]
    }
   ],
   "execution_count": 38
  },
  {
   "cell_type": "markdown",
   "metadata": {
    "id": "EBRZgUtswHcp"
   },
   "source": [
    "O `Pandas` ainda conta com uma série de operações para manipulação e transformação dos dados como funções de joins e merge de tabelas, groupby etc. empregaremos eventualmente essas operações ao longo do texto e para maiores detalhes você poderá consultar a documentação do `Pandas` ou outras referências online."
   ]
  }
 ],
 "metadata": {
  "colab": {
   "collapsed_sections": [
    "BZMmkF32xYEt",
    "bBO8cKayouUr"
   ],
   "name": "c0_parte_1.ipynb",
   "provenance": []
  },
  "kernelspec": {
   "display_name": "Python 3 (ipykernel)",
   "language": "python",
   "name": "python3"
  },
  "language_info": {
   "codemirror_mode": {
    "name": "ipython",
    "version": 3
   },
   "file_extension": ".py",
   "mimetype": "text/x-python",
   "name": "python",
   "nbconvert_exporter": "python",
   "pygments_lexer": "ipython3",
   "version": "3.9.12"
  }
 },
 "nbformat": 4,
 "nbformat_minor": 1
}
