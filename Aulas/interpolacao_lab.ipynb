{
 "cells": [
  {
   "cell_type": "code",
   "id": "initial_id",
   "metadata": {
    "ExecuteTime": {
     "end_time": "2024-10-16T22:49:57.709640Z",
     "start_time": "2024-10-16T22:49:56.664062Z"
    }
   },
   "source": [
    "import sympy as sy\n",
    "import numpy as np\n",
    "from scipy.interpolate import lagrange\n",
    "from numpy.polynomial.polynomial import Polynomial\n",
    "from scipy.interpolate import lagrange\n",
    "x=np.array([10, 20, 30, 40])      \n",
    "y=np.array([0.19, 0.57, 0.94, 0.99])\n",
    "poly = lagrange(x, y)\n",
    "values = Polynomial(poly).coef\n",
    "for i in values:\n",
    "    print(f\"{i:f}\", end='')\n",
    "print()\n",
    "print(poly(25))\n",
    "#print(poly(35))\n",
    "print(np.interp(35, x, y))\n",
    "print(np.roots(poly-0.96))\n"
   ],
   "outputs": [
    {
     "name": "stdout",
     "output_type": "stream",
     "text": [
      "-0.0000520.003050-0.0173330.110000\n",
      "0.7756249999999959\n",
      "0.965\n",
      "[ 41.19225594  30.80498407 -12.96498195]\n"
     ]
    }
   ],
   "execution_count": 2
  },
  {
   "cell_type": "code",
   "id": "2a323733-e625-4815-bebb-053a785f859e",
   "metadata": {
    "ExecuteTime": {
     "end_time": "2024-10-16T22:50:02.809020Z",
     "start_time": "2024-10-16T22:50:02.790875Z"
    }
   },
   "source": [
    "\n",
    "x=np.array([86.0, 93.3, 98.9, 104.4,110.0])      \n",
    "y=np.array([1552, 1548, 1544, 1538,1532])\n",
    "poly = np.polyfit(x,y,4)\n",
    "print(poly)\n",
    "values = poly\n",
    "\n",
    "for i in values:\n",
    "    print(f\"{i:f}\", end=' ')\n",
    "print()\n",
    "p = np.poly1d(poly)\n",
    "print(p(105))\n",
    "#print(poly(35))\n",
    "print(np.interp(95, x, y))\n",
    "print(np.roots(poly-1539))\n"
   ],
   "outputs": [
    {
     "name": "stdout",
     "output_type": "stream",
     "text": [
      "[ 1.36669078e-04 -5.34328187e-02  7.79470613e+00 -5.03637104e+02\n",
      "  1.37254992e+04]\n",
      "0.000137 -0.053433 7.794706 -503.637104 13725.499239 \n",
      "1537.2835116742917\n",
      "1546.7857142857142\n",
      "[-1.93438434+0.j         -0.16717948+1.78845785j -0.16717948-1.78845785j\n",
      "  1.2687085 +0.j        ]\n"
     ]
    }
   ],
   "execution_count": 11
  }
 ],
 "metadata": {
  "kernelspec": {
   "display_name": "Python 3 (ipykernel)",
   "language": "python",
   "name": "python3"
  },
  "language_info": {
   "codemirror_mode": {
    "name": "ipython",
    "version": 3
   },
   "file_extension": ".py",
   "mimetype": "text/x-python",
   "name": "python",
   "nbconvert_exporter": "python",
   "pygments_lexer": "ipython3",
   "version": "3.12.2"
  }
 },
 "nbformat": 4,
 "nbformat_minor": 5
}
